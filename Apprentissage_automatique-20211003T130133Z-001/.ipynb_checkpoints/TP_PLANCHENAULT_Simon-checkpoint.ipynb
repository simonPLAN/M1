{
 "cells": [
  {
   "cell_type": "raw",
   "id": "10eac9f5",
   "metadata": {},
   "source": [
    "Phase de preparation"
   ]
  },
  {
   "cell_type": "code",
   "execution_count": 1,
   "id": "31eb7304",
   "metadata": {},
   "outputs": [],
   "source": [
    "from sklearn import datasets\n",
    "import numpy as np\n",
    "import matplotlib.pyplot as plt\n",
    "\n",
    "import scipy as sp\n",
    "iris = datasets.load_iris()\n",
    "Ciris = np.c_[iris.data.reshape(len(iris.data), -1), iris.target.reshape(len(iris.target), -1)]\n",
    "np.random.seed(0)\n",
    "np.random.shuffle(Ciris)\n",
    "shuffledIrisData = Ciris[ :, :iris.data.size//len(iris.data)].reshape(iris.data.shape)\n",
    "shuffledIrisTarget = Ciris[ :, iris.data.size//len(iris.data) :].reshape(iris.target.shape)\n",
    "\n",
    "#print (iris.data)\n",
    "#print (iris.target)\n",
    "\n",
    "nbDonneeApr=100\n",
    "DonneeApr=Ciris[0:nbDonneeApr]\n",
    "#print(DonneeApr)\n",
    "\n",
    "\n",
    "nbDonneeDev=130\n",
    "DonneeDev=Ciris[nbDonneeApr:nbDonneeDev]\n",
    "#print(DonneeDev)\n",
    "\n",
    "\n",
    "nbDonneeTest=150\n",
    "DonneeTest=Ciris[nbDonneeDev:nbDonneeTest]\n",
    "#print(DonneeTest)\n"
   ]
  },
  {
   "cell_type": "raw",
   "id": "1112f295",
   "metadata": {},
   "source": [
    "Phase d'apprentissage"
   ]
  },
  {
   "cell_type": "code",
   "execution_count": null,
   "id": "09acff2f",
   "metadata": {},
   "outputs": [],
   "source": [
    "moyenne=np.zeros(3*4).reshape(4,3)"
   ]
  }
 ],
 "metadata": {
  "kernelspec": {
   "display_name": "Python 3 (ipykernel)",
   "language": "python",
   "name": "python3"
  },
  "language_info": {
   "codemirror_mode": {
    "name": "ipython",
    "version": 3
   },
   "file_extension": ".py",
   "mimetype": "text/x-python",
   "name": "python",
   "nbconvert_exporter": "python",
   "pygments_lexer": "ipython3",
   "version": "3.8.10"
  }
 },
 "nbformat": 4,
 "nbformat_minor": 5
}
