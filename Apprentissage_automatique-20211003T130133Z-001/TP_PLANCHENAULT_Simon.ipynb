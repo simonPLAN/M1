{
 "cells": [
  {
   "cell_type": "raw",
   "id": "0c2abeba",
   "metadata": {},
   "source": [
    "PLANCHENAULT Simon\n",
    "\n",
    "Aprentissage automatique Numérique\n",
    "\n",
    "Classement bayésien"
   ]
  },
  {
   "cell_type": "raw",
   "id": "627299d6",
   "metadata": {},
   "source": [
    "Importation des bibliothèque  \n",
    "et découpage de liste "
   ]
  },
  {
   "cell_type": "code",
   "execution_count": 21,
   "id": "ae4e0b14",
   "metadata": {},
   "outputs": [],
   "source": [
    "from sklearn import datasets\n",
    "import numpy as np\n",
    "import matplotlib.pyplot as plt\n",
    "import scipy.stats as stats\n",
    "iris = datasets.load_iris()\n",
    "Ciris = np.c_[iris.data.reshape(len(iris.data), -1), iris.target.reshape(len(iris.target), -1)]\n",
    "np.random.seed(987654321)\n",
    "np.random.shuffle(Ciris)\n",
    "shuffledIrisData = Ciris[ :, :iris.data.size//len(iris.data)].reshape(iris.data.shape)\n",
    "shuffledIrisTarget = Ciris[ :, iris.data.size//len(iris.data) :].reshape(iris.target.shape)\n",
    "\n",
    "#print (iris.data)\n",
    "#print (iris.target)\n",
    "\n",
    "nbDonneeApr=100\n",
    "DonneeApr=Ciris[0:nbDonneeApr]\n",
    "#print(DonneeApr)\n",
    "\n",
    "\n",
    "nbDonneeDev=130\n",
    "DonneeDev=Ciris[nbDonneeApr:nbDonneeDev]\n",
    "#print(DonneeDev)\n",
    "DonnesData=shuffledIrisTarget[nbDonneeApr:nbDonneeDev]\n",
    "#print(DonnesData)\n",
    "\n",
    "nbDonneeTest=150\n",
    "DonneeTest=Ciris[nbDonneeDev:nbDonneeTest]\n",
    "DonnesDataeva=shuffledIrisTarget[nbDonneeDev:nbDonneeTest]\n",
    "\n",
    "#print(DonneeTest)\n",
    "\n",
    "\n",
    "\n",
    "\n",
    "\n",
    "\n",
    "\n"
   ]
  },
  {
   "cell_type": "markdown",
   "id": "52d8772f",
   "metadata": {},
   "source": [
    "# phase d'aprentissage"
   ]
  },
  {
   "cell_type": "raw",
   "id": "60b5036b",
   "metadata": {},
   "source": [
    "Calcule des moyennes et de l'écart type  des 100 premieres fleurs"
   ]
  },
  {
   "cell_type": "code",
   "execution_count": 2,
   "id": "5183b92e",
   "metadata": {},
   "outputs": [
    {
     "name": "stdout",
     "output_type": "stream",
     "text": [
      "L'ensemble des moyenne \n",
      " [[4.971875   5.82972973 6.54516129]\n",
      " [3.40625    2.75405405 3.01612903]\n",
      " [1.459375   4.16756757 5.51290323]\n",
      " [0.23125    1.28918919 2.02903226]]\n",
      "\n",
      "L'ensemble des variances \n",
      " [[0.32551138 0.4943373  0.53468914]\n",
      " [0.34913488 0.31849873 0.30121617]\n",
      " [0.19651705 0.45095827 0.50907886]\n",
      " [0.09651174 0.18376281 0.26980678]]\n",
      "5.8297297297297295\n"
     ]
    }
   ],
   "source": [
    "moyenne=np.zeros(3*4).reshape(4,3)\n",
    "variance=np.zeros(3*4).reshape(4,3)\n",
    "\n",
    "for i in range(4):\n",
    "    for j in range(3):\n",
    "        rows=np.where(DonneeApr[:,4]==j)\n",
    "        resultat=DonneeApr[rows]\n",
    "        moyenne[i][j]=np.mean(resultat[:,i])\n",
    "\n",
    "        \n",
    "        \n",
    "for i in range(4):\n",
    "    for j in range(3):\n",
    "        rows=np.where(DonneeApr[:,4]==j)\n",
    "        resultat=DonneeApr[rows]\n",
    "        variance[i][j]=np.std(resultat[:,i],axis=0,ddof=1)  \n",
    "        \n",
    "        \n",
    "print(\"L'ensemble des moyenne \\n\",moyenne)\n",
    "print(\"\\nL'ensemble des variances \\n\",variance)\n",
    "\n",
    "print(moyenne[0][1])\n"
   ]
  },
  {
   "cell_type": "markdown",
   "id": "e530c6d7",
   "metadata": {},
   "source": [
    "# Phase de développement"
   ]
  },
  {
   "cell_type": "raw",
   "id": "6046c28c",
   "metadata": {},
   "source": [
    "calcule du nombre de marque pour l'utilisation de la loi  Gaussienne"
   ]
  },
  {
   "cell_type": "code",
   "execution_count": 3,
   "id": "e591fabd",
   "metadata": {},
   "outputs": [
    {
     "name": "stdout",
     "output_type": "stream",
     "text": [
      "P Setosa =  0.32 \n",
      "P Versicolore  0.37\n",
      "P Verginica 0.31\n"
     ]
    }
   ],
   "source": [
    "def f(x, moyenne, ecart_type):\n",
    "    return stats.norm.pdf(x,moyenne,ecart_type)\n",
    "\n",
    "\n",
    "\n",
    "rows0=np.where(DonneeApr[:,4]==0)\n",
    "resultat0=DonneeApr[rows0]\n",
    "    \n",
    "rows1=np.where(DonneeApr[:,4]==1)\n",
    "resultat1=DonneeApr[rows1]\n",
    "\n",
    "rows2=np.where(DonneeApr[:,4]==2)\n",
    "resultat2=DonneeApr[rows2]\n",
    "\n",
    "\n",
    "P0=len(resultat0)/nbDonneeApr\n",
    "\n",
    "print(\"P Setosa = \",P0,\"\" )\n",
    "\n",
    "# on calcule la moyenne d apparition des 1\n",
    "P1=len(resultat1)/nbDonneeApr\n",
    "print(\"P Versicolore \",P1)\n",
    "# on calcule la moyenne d apparition des 2\n",
    "P2=len(resultat2)/nbDonneeApr\n",
    "print(\"P Verginica\",P2)\n",
    "\n"
   ]
  },
  {
   "cell_type": "raw",
   "id": "e4ab9749",
   "metadata": {},
   "source": [
    "Modele 1 : L/W sepale - L/W Petale"
   ]
  },
  {
   "cell_type": "code",
   "execution_count": 26,
   "id": "bd418b6d",
   "metadata": {},
   "outputs": [
    {
     "name": "stdout",
     "output_type": "stream",
     "text": [
      "le pourcentage d'erreur est de :  13.333333333333334 % pour le modele 1\n"
     ]
    }
   ],
   "source": [
    "def Modele1Setosa(sepaleL,sepaleW,petaleL,petaleW):\n",
    "    sl= f(sepaleL,moyenne[0][0],variance[0][0])\n",
    "    sw= f(sepaleW,moyenne[1][0],variance[1][0])\n",
    "    pl= f(petaleL,moyenne[2][0],variance[2][0]) \n",
    "    pw= f(petaleW,moyenne[3][0],variance[3][0]) \n",
    "    resultat0=sl*sw*pl*pw*P0\n",
    "    return resultat0\n",
    "\n",
    "def Modele1Versicolore(sepaleL,sepaleW,petaleL,petaleW):\n",
    "    sl= f(sepaleL,moyenne[0][1],variance[0][1])\n",
    "    sw= f(sepaleW,moyenne[1][1],variance[1][1])\n",
    "    pl= f(petaleL,moyenne[2][1],variance[2][1]) \n",
    "    pw= f(petaleW,moyenne[3][1],variance[3][1]) \n",
    "    resultat1=sl*sw*pl*pw*P1\n",
    "    return resultat1\n",
    "\n",
    "def Modele1Verginica(sepaleL,sepaleW,petaleL,petaleW):\n",
    "    sl= f(sepaleL,moyenne[0][2],variance[0][2])\n",
    "    sw= f(sepaleW,moyenne[1][2],variance[1][2])\n",
    "    pl= f(petaleL,moyenne[2][2],variance[2][2]) \n",
    "    pw= f(petaleW,moyenne[3][2],variance[3][2]) \n",
    "    resultat2=sl*sw*pl*pw*P2\n",
    "    return resultat2\n",
    "\n",
    "\n",
    "def tableauRecapitulatif():\n",
    "    tableau=[]\n",
    "    for i in range(30):\n",
    "        sepaleL=DonneeDev[i][0]\n",
    "        sepaleW=DonneeDev[i][1]\n",
    "        petaleL=DonneeDev[i][2]\n",
    "        petaleW=DonneeDev[i][3]\n",
    "        tableau.append([Modele1Setosa(sepaleL,sepaleW,petaleL,petaleW),Modele1Versicolore(sepaleL,sepaleW,petaleL,petaleW),Modele1Verginica(sepaleL,sepaleW,petaleL,petaleW)])\n",
    "    #print(tableau)\n",
    "    return(tableau)\n",
    "\n",
    "\n",
    "def pour_erreure(tab):\n",
    "    nb_erreur=0\n",
    "    for i in range(30):\n",
    "        if DonnesData[i] != np.argmax(tab[i]):\n",
    "            nb_erreur+=1\n",
    "    \n",
    "    return (nb_erreur/30)*100\n",
    "#print(DonneeDev)    \n",
    "tableauproba1=tableauRecapitulatif()    \n",
    "    \n",
    "print(\"le pourcentage d'erreur est de : \",pour_erreure(tableauproba1),\"% pour le modele 1\" )    \n",
    "    "
   ]
  },
  {
   "cell_type": "raw",
   "id": "c3bdc895",
   "metadata": {},
   "source": [
    "Modele 2 : L/W sepale - L Petale"
   ]
  },
  {
   "cell_type": "code",
   "execution_count": 5,
   "id": "a2cf02e8",
   "metadata": {},
   "outputs": [
    {
     "name": "stdout",
     "output_type": "stream",
     "text": [
      "le pourcentage d'erreur est de :  16.666666666666664 % pour le modele 2\n"
     ]
    }
   ],
   "source": [
    "def Modele1Setosa(sepaleL,sepaleW,petaleL):\n",
    "    sl= f(sepaleL,moyenne[0][0],variance[0][0])\n",
    "    sw= f(sepaleW,moyenne[1][0],variance[1][0])\n",
    "    pl= f(petaleL,moyenne[2][0],variance[2][0]) \n",
    "    resultat=sl*sw*pl*P0\n",
    "    return resultat\n",
    "\n",
    "def Modele1Versicolore(sepaleL,sepaleW,petaleL):\n",
    "    sl= f(sepaleL,moyenne[0][1],variance[0][1])\n",
    "    sw= f(sepaleW,moyenne[1][1],variance[1][1])\n",
    "    pl= f(petaleL,moyenne[2][1],variance[2][1]) \n",
    "    resultat=sl*sw*pl*P1\n",
    "    return resultat\n",
    "\n",
    "def Modele1Verginica(sepaleL,sepaleW,petaleL):\n",
    "    sl= f(sepaleL,moyenne[0][2],variance[0][2])\n",
    "    sw= f(sepaleW,moyenne[1][2],variance[1][2])\n",
    "    pl= f(petaleL,moyenne[2][2],variance[2][2]) \n",
    "    resultat=sl*sw*pl*P2\n",
    "    return resultat\n",
    "\n",
    "def tableauRecapitulatif():\n",
    "    tableau=[]\n",
    "    for i in range(30):\n",
    "        sepaleL=DonneeDev[i][0]\n",
    "        sepaleW=DonneeDev[i][1]\n",
    "        petaleL=DonneeDev[i][2]\n",
    "        tableau.append([Modele1Setosa(sepaleL,sepaleW,petaleL),Modele1Versicolore(sepaleL,sepaleW,petaleL),Modele1Verginica(sepaleL,sepaleW,petaleL)])\n",
    "    #print(tableau)\n",
    "    return(tableau)\n",
    "\n",
    "\n",
    "def pour_erreure(tab):\n",
    "    nb_erreur=0\n",
    "    for i in range(30):\n",
    "        if DonnesData[i] != np.argmax(tab[i]):\n",
    "            nb_erreur+=1\n",
    "    \n",
    "    return (nb_erreur/30)*100\n",
    "    \n",
    "tableauproba2=tableauRecapitulatif()    \n",
    "    \n",
    "print(\"le pourcentage d'erreur est de : \",pour_erreure(tableauproba2),\"% pour le modele 2\" ) "
   ]
  },
  {
   "cell_type": "raw",
   "id": "85892997",
   "metadata": {},
   "source": [
    "Modele 3 : L/W sepale - W Petale"
   ]
  },
  {
   "cell_type": "code",
   "execution_count": 6,
   "id": "1d8f5f1d",
   "metadata": {},
   "outputs": [
    {
     "name": "stdout",
     "output_type": "stream",
     "text": [
      "le pourcentage d'erreur est de :  13.333333333333334 % pour le modele 3\n"
     ]
    }
   ],
   "source": [
    "def Modele1Setosa(sepaleL,sepaleW,petaleW):\n",
    "    sl= f(sepaleL,moyenne[0][0],variance[0][0])\n",
    "    sw= f(sepaleW,moyenne[1][0],variance[1][0])\n",
    "    pw= f(petaleW,moyenne[3][0],variance[3][0]) \n",
    "    resultat=sl*sw*pw*P0\n",
    "    return resultat\n",
    "\n",
    "def Modele1Versicolore(sepaleL,sepaleW,petaleW):\n",
    "    sl= f(sepaleL,moyenne[0][1],variance[0][1])\n",
    "    sw= f(sepaleW,moyenne[1][1],variance[1][1])\n",
    "    pw= f(petaleW,moyenne[3][1],variance[3][1]) \n",
    "    resultat=sl*sw*pw*P1\n",
    "    return resultat\n",
    "\n",
    "def Modele1Verginica(sepaleL,sepaleW,petaleW):\n",
    "    sl= f(sepaleL,moyenne[0][2],variance[0][2])\n",
    "    sw= f(sepaleW,moyenne[1][2],variance[1][2])\n",
    "    pw= f(petaleW,moyenne[3][2],variance[3][2]) \n",
    "    resultat=sl*sw*pw*P2\n",
    "    return resultat\n",
    "\n",
    "def tableauRecapitulatif():\n",
    "    tableau=[]\n",
    "    for i in range(30):\n",
    "        sepaleL=DonneeDev[i][0]\n",
    "        sepaleW=DonneeDev[i][1]\n",
    "        petaleW=DonneeDev[i][3]\n",
    "        tableau.append([Modele1Setosa(sepaleL,sepaleW,petaleW),Modele1Versicolore(sepaleL,sepaleW,petaleW),Modele1Verginica(sepaleL,sepaleW,petaleW)])\n",
    "    #print(tableau)\n",
    "    return(tableau)\n",
    "\n",
    "\n",
    "def pour_erreure(tab):\n",
    "    nb_erreur=0\n",
    "    for i in range(30):\n",
    "        if DonnesData[i] != np.argmax(tab[i]):\n",
    "            nb_erreur+=1\n",
    "    \n",
    "    return (nb_erreur/30)*100\n",
    "    \n",
    "tableauproba3=tableauRecapitulatif()    \n",
    "    \n",
    "print(\"le pourcentage d'erreur est de : \",pour_erreure(tableauproba3),\"% pour le modele 3\" ) "
   ]
  },
  {
   "cell_type": "raw",
   "id": "84fbc31f",
   "metadata": {},
   "source": [
    "Modele 4 : L sepale - L/W Petale"
   ]
  },
  {
   "cell_type": "code",
   "execution_count": 7,
   "id": "5a431de3",
   "metadata": {},
   "outputs": [
    {
     "name": "stdout",
     "output_type": "stream",
     "text": [
      "le pourcentage d'erreur est de :  10.0 % pour le modele 4\n"
     ]
    }
   ],
   "source": [
    "def Modele1Setosa(sepaleL,petaleL,petaleW):\n",
    "    sl= f(sepaleL,moyenne[0][0],variance[0][0])\n",
    "    pl= f(petaleL,moyenne[2][0],variance[2][0]) \n",
    "    pw= f(petaleW,moyenne[3][0],variance[3][0]) \n",
    "    resultat=sl*pl*pw*P0\n",
    "    return resultat\n",
    "\n",
    "def Modele1Versicolore(sepaleL,petaleL,petaleW):\n",
    "    sl= f(sepaleL,moyenne[0][1],variance[0][1])\n",
    "    pl= f(petaleL,moyenne[2][1],variance[2][1]) \n",
    "    pw= f(petaleW,moyenne[3][1],variance[3][1]) \n",
    "    resultat=sl*pl*pw*P1\n",
    "    return resultat\n",
    "\n",
    "def Modele1Verginica(sepaleL,petaleL,petaleW):\n",
    "    sl= f(sepaleL,moyenne[0][2],variance[0][2])\n",
    "    pl= f(petaleL,moyenne[2][2],variance[2][2]) \n",
    "    pw= f(petaleW,moyenne[3][2],variance[3][2]) \n",
    "    resultat=sl*pl*pw*P2\n",
    "    return resultat\n",
    "\n",
    "def tableauRecapitulatif():\n",
    "    tableau=[]\n",
    "    for i in range(30):\n",
    "        sepaleL=DonneeDev[i][0]\n",
    "        sepaleW=DonneeDev[i][1]\n",
    "        petaleL=DonneeDev[i][2]\n",
    "        petaleW=DonneeDev[i][3]\n",
    "        tableau.append([Modele1Setosa(sepaleL,petaleL,petaleW),Modele1Versicolore(sepaleL,petaleL,petaleW),Modele1Verginica(sepaleL,petaleL,petaleW)])\n",
    "    #print(tableau)\n",
    "    return(tableau)\n",
    "\n",
    "\n",
    "def pour_erreure(tab):\n",
    "    nb_erreur=0\n",
    "    for i in range(30):\n",
    "        if DonnesData[i] != np.argmax(tab[i]):\n",
    "            nb_erreur+=1\n",
    "    \n",
    "    return (nb_erreur/30)*100\n",
    "    \n",
    "tableauproba4=tableauRecapitulatif()    \n",
    "    \n",
    "print(\"le pourcentage d'erreur est de : \",pour_erreure(tableauproba4),\"% pour le modele 4\" ) "
   ]
  },
  {
   "cell_type": "raw",
   "id": "9e53c20a",
   "metadata": {},
   "source": [
    "Modele 5 : W sepale - L/W Petale"
   ]
  },
  {
   "cell_type": "code",
   "execution_count": 8,
   "id": "1de57bac",
   "metadata": {},
   "outputs": [
    {
     "name": "stdout",
     "output_type": "stream",
     "text": [
      "le pourcentage d'erreur est de :  13.333333333333334 % pour le modele 5\n"
     ]
    }
   ],
   "source": [
    "def Modele1Setosa(sepaleW,petaleL,petaleW):\n",
    "    sw= f(sepaleW,moyenne[1][0],variance[1][0])\n",
    "    pl= f(petaleL,moyenne[2][0],variance[2][0]) \n",
    "    pw= f(petaleW,moyenne[3][0],variance[3][0]) \n",
    "    resultat=sw*pl*pw*P0\n",
    "    return resultat\n",
    "\n",
    "def Modele1Versicolore(sepaleW,petaleL,petaleW):\n",
    "    sw= f(sepaleW,moyenne[1][1],variance[1][1])\n",
    "    pl= f(petaleL,moyenne[2][1],variance[2][1]) \n",
    "    pw= f(petaleW,moyenne[3][1],variance[3][1]) \n",
    "    resultat=sw*pl*pw*P1\n",
    "    return resultat\n",
    "\n",
    "def Modele1Verginica(sepaleW,petaleL,petaleW):\n",
    "    sw= f(sepaleW,moyenne[1][2],variance[1][2])\n",
    "    pl= f(petaleL,moyenne[2][2],variance[2][2]) \n",
    "    pw= f(petaleW,moyenne[3][2],variance[3][2]) \n",
    "    resultat=sw*pl*pw*P2\n",
    "    return resultat\n",
    "\n",
    "def tableauRecapitulatif():\n",
    "    tableau=[]\n",
    "    for i in range(30):\n",
    "        sepaleW=DonneeDev[i][1]\n",
    "        petaleL=DonneeDev[i][2]\n",
    "        petaleW=DonneeDev[i][3]\n",
    "        tableau.append([Modele1Setosa(sepaleW,petaleL,petaleW),Modele1Versicolore(sepaleW,petaleL,petaleW),Modele1Verginica(sepaleW,petaleL,petaleW)])\n",
    "    #print(tableau)\n",
    "    return(tableau)\n",
    "\n",
    "\n",
    "def pour_erreure(tab):\n",
    "    nb_erreur=0\n",
    "    for i in range(30):\n",
    "        if DonnesData[i] != np.argmax(tab[i]):\n",
    "            nb_erreur+=1\n",
    "    \n",
    "    return (nb_erreur/30)*100\n",
    "    \n",
    "tableauproba5=tableauRecapitulatif()    \n",
    "    \n",
    "print(\"le pourcentage d'erreur est de : \",pour_erreure(tableauproba5),\"% pour le modele 5\" ) "
   ]
  },
  {
   "cell_type": "raw",
   "id": "78cd7284",
   "metadata": {},
   "source": [
    "Modele 6 : L/W sepale "
   ]
  },
  {
   "cell_type": "code",
   "execution_count": 9,
   "id": "097440ec",
   "metadata": {},
   "outputs": [
    {
     "name": "stdout",
     "output_type": "stream",
     "text": [
      "le pourcentage d'erreur est de :  20.0 % pour le modele 6\n"
     ]
    }
   ],
   "source": [
    "def Modele1Setosa(sepaleL,sepaleW):\n",
    "    sl= f(sepaleL,moyenne[0][0],variance[0][0])\n",
    "    sw= f(sepaleW,moyenne[1][0],variance[1][0])\n",
    "    resultat=sl*sw*P0\n",
    "    return resultat\n",
    "\n",
    "def Modele1Versicolore(sepaleL,sepaleW):\n",
    "    sl= f(sepaleL,moyenne[0][1],variance[0][1])\n",
    "    sw= f(sepaleW,moyenne[1][1],variance[1][1])\n",
    "    resultat=sl*sw*P1\n",
    "    return resultat\n",
    "\n",
    "def Modele1Verginica(sepaleL,sepaleW):\n",
    "    sl= f(sepaleL,moyenne[0][2],variance[0][2])\n",
    "    sw= f(sepaleW,moyenne[1][2],variance[1][2])\n",
    "    resultat=sl*sw*P2\n",
    "    return resultat\n",
    "\n",
    "def tableauRecapitulatif():\n",
    "    tableau=[]\n",
    "    for i in range(30):\n",
    "        sepaleL=DonneeDev[i][0]\n",
    "        sepaleW=DonneeDev[i][1]\n",
    "        tableau.append([Modele1Setosa(sepaleL,sepaleW),Modele1Versicolore(sepaleL,sepaleW,),Modele1Verginica(sepaleL,sepaleW)])\n",
    "    #print(tableau)\n",
    "    return(tableau)\n",
    "\n",
    "\n",
    "def pour_erreure(tab):\n",
    "    nb_erreur=0\n",
    "    for i in range(30):\n",
    "        if DonnesData[i] != np.argmax(tab[i]):\n",
    "            nb_erreur+=1\n",
    "    \n",
    "    return (nb_erreur/30)*100\n",
    "    \n",
    "tableauproba6=tableauRecapitulatif()    \n",
    "    \n",
    "print(\"le pourcentage d'erreur est de : \",pour_erreure(tableauproba6),\"% pour le modele 6\" ) "
   ]
  },
  {
   "cell_type": "raw",
   "id": "f03aadb8",
   "metadata": {},
   "source": [
    "Modele 7 : L/W Petale"
   ]
  },
  {
   "cell_type": "code",
   "execution_count": 10,
   "id": "14754367",
   "metadata": {},
   "outputs": [
    {
     "name": "stdout",
     "output_type": "stream",
     "text": [
      "le pourcentage d'erreur est de :  13.333333333333334 % pour le modele 7\n"
     ]
    }
   ],
   "source": [
    "def Modele1Setosa(petaleL,petaleW):\n",
    "   \n",
    "    pl= f(petaleL,moyenne[2][0],variance[2][0]) \n",
    "    pw= f(petaleW,moyenne[3][0],variance[3][0]) \n",
    "    resultat=pl*pw*P0\n",
    "    return resultat\n",
    "\n",
    "def Modele1Versicolore(petaleL,petaleW):\n",
    "  \n",
    "    pl= f(petaleL,moyenne[2][1],variance[2][1]) \n",
    "    pw= f(petaleW,moyenne[3][1],variance[3][1]) \n",
    "    resultat=pl*pw*P1\n",
    "    return resultat\n",
    "\n",
    "def Modele1Verginica(petaleL,petaleW):\n",
    "   \n",
    "    pl= f(petaleL,moyenne[2][2],variance[2][2]) \n",
    "    pw= f(petaleW,moyenne[3][2],variance[3][2]) \n",
    "    resultat=pl*pw*P2\n",
    "    return resultat\n",
    "\n",
    "def tableauRecapitulatif():\n",
    "    tableau=[]\n",
    "    for i in range(30):\n",
    "       \n",
    "        petaleL=DonneeDev[i][2]\n",
    "        petaleW=DonneeDev[i][3]\n",
    "        tableau.append([Modele1Setosa(petaleL,petaleW),Modele1Versicolore(petaleL,petaleW),Modele1Verginica(petaleL,petaleW)])\n",
    "    #print(tableau)\n",
    "    return(tableau)\n",
    "\n",
    "\n",
    "def pour_erreure(tab):\n",
    "    nb_erreur=0\n",
    "    for i in range(30):\n",
    "        if DonnesData[i] != np.argmax(tab[i]):\n",
    "            nb_erreur+=1\n",
    "    \n",
    "    return (nb_erreur/30)*100\n",
    "    \n",
    "tableauproba7=tableauRecapitulatif()    \n",
    "    \n",
    "print(\"le pourcentage d'erreur est de : \",pour_erreure(tableauproba7),\"% pour le modele 7\" ) "
   ]
  },
  {
   "cell_type": "raw",
   "id": "f6a14402",
   "metadata": {},
   "source": [
    "Modele 8 : W sepale - L Petale"
   ]
  },
  {
   "cell_type": "code",
   "execution_count": 11,
   "id": "0ce0c1b8",
   "metadata": {},
   "outputs": [
    {
     "name": "stdout",
     "output_type": "stream",
     "text": [
      "le pourcentage d'erreur est de :  10.0 % pour le modele 8\n"
     ]
    }
   ],
   "source": [
    "def Modele1Setosa(sepaleW,petaleL):\n",
    "    sw= f(sepaleW,moyenne[1][0],variance[1][0])\n",
    "    pl= f(petaleL,moyenne[2][0],variance[2][0]) \n",
    "    resultat=sw*pl*P0\n",
    "    return resultat\n",
    "\n",
    "def Modele1Versicolore(sepaleW,petaleL):\n",
    "    sw= f(sepaleW,moyenne[1][1],variance[1][1])\n",
    "    pl= f(petaleL,moyenne[2][1],variance[2][1]) \n",
    "    resultat=sw*pl*P1\n",
    "    return resultat\n",
    "\n",
    "def Modele1Verginica(sepaleW,petaleL):\n",
    "    sw= f(sepaleW,moyenne[1][2],variance[1][2])\n",
    "    pl= f(petaleL,moyenne[2][2],variance[2][2])  \n",
    "    resultat=sw*pl*P2\n",
    "    return resultat\n",
    "\n",
    "def tableauRecapitulatif():\n",
    "    tableau=[]\n",
    "    for i in range(30):\n",
    "        sepaleW=DonneeDev[i][1]\n",
    "        petaleL=DonneeDev[i][2]\n",
    "        tableau.append([Modele1Setosa(sepaleW,petaleL),Modele1Versicolore(sepaleW,petaleL),Modele1Verginica(sepaleW,petaleL)])\n",
    "    #print(tableau)\n",
    "    return(tableau)\n",
    "\n",
    "\n",
    "def pour_erreure(tab):\n",
    "    nb_erreur=0\n",
    "    for i in range(30):\n",
    "        if DonnesData[i] != np.argmax(tab[i]):\n",
    "            nb_erreur+=1\n",
    "    \n",
    "    return (nb_erreur/30)*100\n",
    "    \n",
    "tableauproba8=tableauRecapitulatif()    \n",
    "    \n",
    "print(\"le pourcentage d'erreur est de : \",pour_erreure(tableauproba8),\"% pour le modele 8\" )    "
   ]
  },
  {
   "cell_type": "raw",
   "id": "685eb59e",
   "metadata": {},
   "source": [
    "Modele 9 : L sepale - W Petale"
   ]
  },
  {
   "cell_type": "code",
   "execution_count": 12,
   "id": "bd3c5c3d",
   "metadata": {},
   "outputs": [
    {
     "name": "stdout",
     "output_type": "stream",
     "text": [
      "le pourcentage d'erreur est de :  10.0 % pour le modele 9\n"
     ]
    }
   ],
   "source": [
    "def Modele1Setosa(sepaleL,petaleW):\n",
    "    sl= f(sepaleL,moyenne[0][0],variance[0][0])\n",
    "    pw= f(petaleW,moyenne[3][0],variance[3][0]) \n",
    "    resultat=sl*pw*P0\n",
    "    return resultat\n",
    "\n",
    "def Modele1Versicolore(sepaleL,petaleW):\n",
    "    sl= f(sepaleL,moyenne[0][1],variance[0][1])\n",
    "    pw= f(petaleW,moyenne[3][1],variance[3][1]) \n",
    "    resultat=sl*pw*P1\n",
    "    return resultat\n",
    "\n",
    "def Modele1Verginica(sepaleL,petaleW):\n",
    "    sl= f(sepaleL,moyenne[0][2],variance[0][2])\n",
    "    pw= f(petaleW,moyenne[3][2],variance[3][2]) \n",
    "    resultat=sl*pw*P2\n",
    "    return resultat\n",
    "\n",
    "def tableauRecapitulatif():\n",
    "    tableau=[]\n",
    "    for i in range(30):\n",
    "        sepaleL=DonneeDev[i][0]\n",
    "        petaleW=DonneeDev[i][3]\n",
    "        tableau.append([Modele1Setosa(sepaleL,petaleW),Modele1Versicolore(sepaleL,petaleW),Modele1Verginica(sepaleL,petaleW)])\n",
    "    #print(tableau)\n",
    "    return(tableau)\n",
    "\n",
    "\n",
    "def pour_erreure(tab):\n",
    "    nb_erreur=0\n",
    "    for i in range(30):\n",
    "        if DonnesData[i] != np.argmax(tab[i]):\n",
    "            nb_erreur+=1\n",
    "    \n",
    "    return (nb_erreur/30)*100\n",
    "    \n",
    "tableauproba9=tableauRecapitulatif()    \n",
    "    \n",
    "print(\"le pourcentage d'erreur est de : \",pour_erreure(tableauproba9),\"% pour le modele 9\" ) "
   ]
  },
  {
   "cell_type": "raw",
   "id": "69338004",
   "metadata": {},
   "source": [
    "Modele 10 : W sepale - W Petale"
   ]
  },
  {
   "cell_type": "code",
   "execution_count": 13,
   "id": "22ce9bee",
   "metadata": {},
   "outputs": [
    {
     "name": "stdout",
     "output_type": "stream",
     "text": [
      "le pourcentage d'erreur est de :  10.0 % pour le modele 10\n"
     ]
    }
   ],
   "source": [
    "def Modele1Setosa(sepaleW,petaleW):\n",
    "    sw= f(sepaleW,moyenne[1][0],variance[1][0])\n",
    "    pw= f(petaleW,moyenne[3][0],variance[3][0]) \n",
    "    resultat=sw*pw*P0\n",
    "    return resultat\n",
    "\n",
    "def Modele1Versicolore(sepaleW,petaleW):\n",
    "    sw= f(sepaleW,moyenne[1][1],variance[1][1])\n",
    "    pw= f(petaleW,moyenne[3][1],variance[3][1]) \n",
    "    resultat=sw*pw*P1\n",
    "    return resultat\n",
    "\n",
    "def Modele1Verginica(sepaleW,petaleW):\n",
    "    sw= f(sepaleW,moyenne[1][2],variance[1][2])\n",
    "    pw= f(petaleW,moyenne[3][2],variance[3][2]) \n",
    "    resultat=sw*pw*P2\n",
    "    return resultat\n",
    "\n",
    "def tableauRecapitulatif():\n",
    "    tableau=[]\n",
    "    for i in range(30):\n",
    "        sepaleW=DonneeDev[i][1]\n",
    "        petaleW=DonneeDev[i][3]\n",
    "        tableau.append([Modele1Setosa(sepaleW,petaleW),Modele1Versicolore(sepaleW,petaleW),Modele1Verginica(sepaleW,petaleW)])\n",
    "    #print(tableau)\n",
    "    return(tableau)\n",
    "\n",
    "\n",
    "def pour_erreure(tab):\n",
    "    nb_erreur=0\n",
    "    for i in range(30):\n",
    "        if DonnesData[i] != np.argmax(tab[i]):\n",
    "            nb_erreur+=1\n",
    "    \n",
    "    return (nb_erreur/30)*100\n",
    "    \n",
    "tableauproba10=tableauRecapitulatif()    \n",
    "    \n",
    "print(\"le pourcentage d'erreur est de : \",pour_erreure(tableauproba10),\"% pour le modele 10\" ) "
   ]
  },
  {
   "cell_type": "raw",
   "id": "821d2c18",
   "metadata": {},
   "source": [
    "Modele 11 : L sepale - L Petale"
   ]
  },
  {
   "cell_type": "code",
   "execution_count": 14,
   "id": "3fb027fd",
   "metadata": {},
   "outputs": [
    {
     "name": "stdout",
     "output_type": "stream",
     "text": [
      "le pourcentage d'erreur est de :  13.333333333333334 % pour le modele 11\n"
     ]
    }
   ],
   "source": [
    "def Modele1Setosa(sepaleL,petaleL):\n",
    "    sl= f(sepaleL,moyenne[0][0],variance[0][0])\n",
    "    pl= f(petaleL,moyenne[2][0],variance[2][0]) \n",
    "    resultat=sl*pl*P0\n",
    "    return resultat\n",
    "\n",
    "def Modele1Versicolore(sepaleL,petaleL):\n",
    "    sl= f(sepaleL,moyenne[0][1],variance[0][1])\n",
    "    pl= f(petaleL,moyenne[2][1],variance[2][1]) \n",
    "    resultat=sl*pl*P1\n",
    "    return resultat\n",
    "\n",
    "def Modele1Verginica(sepaleL,petaleL):\n",
    "    sl= f(sepaleL,moyenne[0][2],variance[0][2])\n",
    "    pl= f(petaleL,moyenne[2][2],variance[2][2]) \n",
    "    resultat=sl*pl*P2\n",
    "    return resultat\n",
    "\n",
    "def tableauRecapitulatif():\n",
    "    tableau=[]\n",
    "    for i in range(30):\n",
    "        sepaleL=DonneeDev[i][0]\n",
    "        petaleL=DonneeDev[i][2]\n",
    "        tableau.append([Modele1Setosa(sepaleL,petaleL),Modele1Versicolore(sepaleL,petaleL),Modele1Verginica(sepaleL,petaleL)])\n",
    "    #print(tableau)\n",
    "    return(tableau)\n",
    "\n",
    "\n",
    "def pour_erreure(tab):\n",
    "    nb_erreur=0\n",
    "    for i in range(30):\n",
    "        if DonnesData[i] != np.argmax(tab[i]):\n",
    "            nb_erreur+=1\n",
    "    \n",
    "    return (nb_erreur/30)*100\n",
    "    \n",
    "tableauproba11=tableauRecapitulatif()    \n",
    "    \n",
    "print(\"le pourcentage d'erreur est de : \",pour_erreure(tableauproba11),\"% pour le modele 11\" ) "
   ]
  },
  {
   "cell_type": "raw",
   "id": "e00ede8d",
   "metadata": {},
   "source": [
    "Modele 12 : L sepale"
   ]
  },
  {
   "cell_type": "code",
   "execution_count": 15,
   "id": "5aa0d873",
   "metadata": {},
   "outputs": [
    {
     "name": "stdout",
     "output_type": "stream",
     "text": [
      "le pourcentage d'erreur est de :  26.666666666666668 % pour le modele 12\n"
     ]
    }
   ],
   "source": [
    "def Modele1Setosa(sepaleL):\n",
    "    sl= f(sepaleL,moyenne[0][0],variance[0][0])\n",
    "    resultat=sl*P0\n",
    "    return resultat\n",
    "\n",
    "def Modele1Versicolore(sepaleL):\n",
    "    sl= f(sepaleL,moyenne[0][1],variance[0][1])\n",
    "    resultat=sl*P1\n",
    "    return resultat\n",
    "\n",
    "def Modele1Verginica(sepaleL):\n",
    "    sl= f(sepaleL,moyenne[0][2],variance[0][2])\n",
    "    \n",
    "    resultat=sl*P2\n",
    "    return resultat\n",
    "\n",
    "def tableauRecapitulatif():\n",
    "    tableau=[]\n",
    "    for i in range(30):\n",
    "        sepaleL=DonneeDev[i][0]\n",
    "        tableau.append([Modele1Setosa(sepaleL),Modele1Versicolore(sepaleL),Modele1Verginica(sepaleL)])\n",
    "    #print(tableau)\n",
    "    return(tableau)\n",
    "\n",
    "\n",
    "def pour_erreure(tab):\n",
    "    nb_erreur=0\n",
    "    for i in range(30):\n",
    "        if DonnesData[i] != np.argmax(tab[i]):\n",
    "            nb_erreur+=1\n",
    "    \n",
    "    return (nb_erreur/30)*100\n",
    "    \n",
    "tableauproba12=tableauRecapitulatif()    \n",
    "    \n",
    "print(\"le pourcentage d'erreur est de : \",pour_erreure(tableauproba12),\"% pour le modele 12\" ) "
   ]
  },
  {
   "cell_type": "raw",
   "id": "158ba6e0",
   "metadata": {},
   "source": [
    "Modele 13 : W sepale "
   ]
  },
  {
   "cell_type": "code",
   "execution_count": 16,
   "id": "c21ff8e3",
   "metadata": {},
   "outputs": [
    {
     "name": "stdout",
     "output_type": "stream",
     "text": [
      "le pourcentage d'erreur est de :  46.666666666666664 % pour le modele 13\n"
     ]
    }
   ],
   "source": [
    "def Modele1Setosa(sepaleW):\n",
    "    sw= f(sepaleW,moyenne[1][0],variance[1][0])\n",
    "    resultat=sw*P0\n",
    "    return resultat\n",
    "\n",
    "def Modele1Versicolore(sepaleW,):\n",
    "    sw= f(sepaleW,moyenne[1][1],variance[1][1])\n",
    "    resultat=sw*P1\n",
    "    return resultat\n",
    "\n",
    "def Modele1Verginica(sepaleW):\n",
    "    sw= f(sepaleW,moyenne[1][2],variance[1][2])\n",
    "    resultat=sw*P2\n",
    "    return resultat\n",
    "\n",
    "def tableauRecapitulatif():\n",
    "    tableau=[]\n",
    "    for i in range(30):\n",
    "        sepaleW=DonneeDev[i][1]\n",
    "        tableau.append([Modele1Setosa(sepaleW),Modele1Versicolore(sepaleW),Modele1Verginica(sepaleW)])\n",
    "    #print(tableau)\n",
    "    return(tableau)\n",
    "\n",
    "\n",
    "def pour_erreure(tab):\n",
    "    nb_erreur=0\n",
    "    for i in range(30):\n",
    "        if DonnesData[i] != np.argmax(tab[i]):\n",
    "            nb_erreur+=1\n",
    "    return (nb_erreur/30)*100\n",
    "    \n",
    "tableauproba13=tableauRecapitulatif()    \n",
    "    \n",
    "print(\"le pourcentage d'erreur est de : \",pour_erreure(tableauproba13),\"% pour le modele 13\" ) "
   ]
  },
  {
   "cell_type": "raw",
   "id": "77dd3fe4",
   "metadata": {},
   "source": [
    "Modele 14 : L Petale"
   ]
  },
  {
   "cell_type": "code",
   "execution_count": 17,
   "id": "4db39dff",
   "metadata": {},
   "outputs": [
    {
     "name": "stdout",
     "output_type": "stream",
     "text": [
      "le pourcentage d'erreur est de :  6.666666666666667 % pour le modele 14\n"
     ]
    }
   ],
   "source": [
    "def Modele1Setosa(petaleL):\n",
    "    pl= f(petaleL,moyenne[2][0],variance[2][0])   \n",
    "    resultat=pl*P0\n",
    "    return resultat\n",
    "\n",
    "def Modele1Versicolore(petaleL):\n",
    "    pl= f(petaleL,moyenne[2][1],variance[2][1]) \n",
    "    resultat=pl*P1\n",
    "    return resultat\n",
    "\n",
    "def Modele1Verginica(petaleL):\n",
    "    pl= f(petaleL,moyenne[2][2],variance[2][2]) \n",
    "    resultat=pl*P2\n",
    "    return resultat\n",
    "\n",
    "def tableauRecapitulatif():\n",
    "    tableau=[]\n",
    "    for i in range(30):\n",
    "        petaleL=DonneeDev[i][2]\n",
    "        tableau.append([Modele1Setosa(petaleL),Modele1Versicolore(petaleL),Modele1Verginica(petaleL)])\n",
    "    return(tableau)\n",
    "\n",
    "\n",
    "def pour_erreure(tab):\n",
    "    nb_erreur=0\n",
    "    for i in range(30):\n",
    "        if DonnesData[i] != np.argmax(tab[i]):\n",
    "            nb_erreur+=1\n",
    "    \n",
    "    return (nb_erreur/30)*100\n",
    "\n",
    "   \n",
    "tableauproba14=tableauRecapitulatif()    \n",
    "    \n",
    "print(\"le pourcentage d'erreur est de : \",pour_erreure(tableauproba14),\"% pour le modele 14\" ) "
   ]
  },
  {
   "cell_type": "raw",
   "id": "2380db79",
   "metadata": {},
   "source": [
    "Modele 15 : W Petale"
   ]
  },
  {
   "cell_type": "code",
   "execution_count": 18,
   "id": "e3b1454e",
   "metadata": {},
   "outputs": [
    {
     "name": "stdout",
     "output_type": "stream",
     "text": [
      "le pourcentage d'erreur est de :  10.0 % pour le modele 15\n"
     ]
    }
   ],
   "source": [
    "def Modele1Setosa(petaleW):\n",
    "    pw= f(petaleW,moyenne[3][0],variance[3][0]) \n",
    "    resultat=pw*P0\n",
    "    return resultat\n",
    "\n",
    "def Modele1Versicolore(petaleW): \n",
    "    pw= f(petaleW,moyenne[3][1],variance[3][1]) \n",
    "    resultat=pw*P1\n",
    "    return resultat\n",
    "\n",
    "def Modele1Verginica(petaleW):\n",
    "    pw= f(petaleW,moyenne[3][2],variance[3][2]) \n",
    "    resultat=pw*P2\n",
    "    return resultat\n",
    "\n",
    "def tableauRecapitulatif():\n",
    "    tableau=[]\n",
    "    for i in range(30):\n",
    "        petaleW=DonneeDev[i][3]\n",
    "        tableau.append([Modele1Setosa(petaleW),Modele1Versicolore(petaleW),Modele1Verginica(petaleW)])\n",
    "    #print(tableau)\n",
    "    return(tableau)\n",
    "\n",
    "\n",
    "def pour_erreure(tab):\n",
    "    nb_erreur=0\n",
    "    for i in range(30):\n",
    "        if DonnesData[i] != np.argmax(tab[i]):\n",
    "            nb_erreur+=1\n",
    "    \n",
    "    return (nb_erreur/30)*100\n",
    "    \n",
    "tableauproba15=tableauRecapitulatif()    \n",
    "    \n",
    "print(\"le pourcentage d'erreur est de : \",pour_erreure(tableauproba15),\"% pour le modele 15\" ) "
   ]
  },
  {
   "cell_type": "code",
   "execution_count": 19,
   "id": "0f9796cd",
   "metadata": {},
   "outputs": [
    {
     "name": "stdout",
     "output_type": "stream",
     "text": [
      "le pourcentage d'erreur est de :  13.333333333333334 % pour le modele 1\n",
      "le pourcentage d'erreur est de :  16.666666666666664 % pour le modele 2\n",
      "le pourcentage d'erreur est de :  13.333333333333334 % pour le modele 3\n",
      "le pourcentage d'erreur est de :  10.0 % pour le modele 4\n",
      "le pourcentage d'erreur est de :  13.333333333333334 % pour le modele 5\n",
      "le pourcentage d'erreur est de :  20.0 % pour le modele 6\n",
      "le pourcentage d'erreur est de :  13.333333333333334 % pour le modele 7\n",
      "le pourcentage d'erreur est de :  10.0 % pour le modele 8\n",
      "le pourcentage d'erreur est de :  10.0 % pour le modele 9\n",
      "le pourcentage d'erreur est de :  10.0 % pour le modele 10\n",
      "le pourcentage d'erreur est de :  13.333333333333334 % pour le modele 11\n",
      "le pourcentage d'erreur est de :  26.666666666666668 % pour le modele 12\n",
      "le pourcentage d'erreur est de :  46.666666666666664 % pour le modele 13\n",
      "le pourcentage d'erreur est de :  6.666666666666667 % pour le modele 14\n",
      "le pourcentage d'erreur est de :  10.0 % pour le modele 15\n"
     ]
    }
   ],
   "source": [
    "print(\"le pourcentage d'erreur est de : \",pour_erreure(tableauproba1),\"% pour le modele 1\" ) \n",
    "print(\"le pourcentage d'erreur est de : \",pour_erreure(tableauproba2),\"% pour le modele 2\" ) \n",
    "print(\"le pourcentage d'erreur est de : \",pour_erreure(tableauproba3),\"% pour le modele 3\" ) \n",
    "print(\"le pourcentage d'erreur est de : \",pour_erreure(tableauproba4),\"% pour le modele 4\" ) \n",
    "print(\"le pourcentage d'erreur est de : \",pour_erreure(tableauproba5),\"% pour le modele 5\" ) \n",
    "print(\"le pourcentage d'erreur est de : \",pour_erreure(tableauproba6),\"% pour le modele 6\" ) \n",
    "print(\"le pourcentage d'erreur est de : \",pour_erreure(tableauproba7),\"% pour le modele 7\" ) \n",
    "print(\"le pourcentage d'erreur est de : \",pour_erreure(tableauproba8),\"% pour le modele 8\" ) \n",
    "print(\"le pourcentage d'erreur est de : \",pour_erreure(tableauproba9),\"% pour le modele 9\" ) \n",
    "print(\"le pourcentage d'erreur est de : \",pour_erreure(tableauproba10),\"% pour le modele 10\" ) \n",
    "print(\"le pourcentage d'erreur est de : \",pour_erreure(tableauproba11),\"% pour le modele 11\" ) \n",
    "print(\"le pourcentage d'erreur est de : \",pour_erreure(tableauproba12),\"% pour le modele 12\" ) \n",
    "print(\"le pourcentage d'erreur est de : \",pour_erreure(tableauproba13),\"% pour le modele 13\" ) \n",
    "print(\"le pourcentage d'erreur est de : \",pour_erreure(tableauproba14),\"% pour le modele 14\" ) \n",
    "print(\"le pourcentage d'erreur est de : \",pour_erreure(tableauproba15),\"% pour le modele 15\" ) \n",
    "\n"
   ]
  },
  {
   "cell_type": "raw",
   "id": "a60216ca",
   "metadata": {},
   "source": [
    "Le pourcentage d'erreur du modele 14 et le plus faible, il sera donc utiliser pour la phase d'évaluation"
   ]
  },
  {
   "cell_type": "markdown",
   "id": "948d7665",
   "metadata": {},
   "source": [
    "# Phase d'évaluation"
   ]
  },
  {
   "cell_type": "code",
   "execution_count": 20,
   "id": "95cbbeca",
   "metadata": {},
   "outputs": [
    {
     "name": "stdout",
     "output_type": "stream",
     "text": [
      "le pourcentage d'erreur de la phase d'evaluation est de  :  15.0 % \n"
     ]
    }
   ],
   "source": [
    "def Modele1Setosa(petaleL):\n",
    "    pl= f(petaleL,moyenne[2][0],variance[2][0])   \n",
    "    resultat=pl*P0\n",
    "    return resultat\n",
    "\n",
    "def Modele1Versicolore(petaleL):\n",
    "    pl= f(petaleL,moyenne[2][1],variance[2][1]) \n",
    "    resultat=pl*P1\n",
    "    return resultat\n",
    "\n",
    "def Modele1Verginica(petaleL):\n",
    "    pl= f(petaleL,moyenne[2][2],variance[2][2]) \n",
    "    resultat=pl*P2\n",
    "    return resultat\n",
    "\n",
    "def tableauRecapitulatif():\n",
    "    tableau=[]\n",
    "    for i in range(20):\n",
    "        petaleL=DonneeTest[i][2]\n",
    "        tableau.append([Modele1Setosa(petaleL),Modele1Versicolore(petaleL),Modele1Verginica(petaleL)])\n",
    "    return(tableau)\n",
    "\n",
    "\n",
    "def pour_erreure(tab):\n",
    "    nb_erreur=0\n",
    "    for i in range(20):\n",
    "        if DonnesDataeva[i] != np.argmax(tab[i]):\n",
    "            nb_erreur+=1\n",
    "    \n",
    "    return (nb_erreur/20)*100\n",
    "\n",
    "   \n",
    "tableauproba=tableauRecapitulatif()    \n",
    "    \n",
    "print(\"le pourcentage d'erreur de la phase d'evaluation est de  : \",pour_erreure(tableauproba),\"% \" ) "
   ]
  },
  {
   "cell_type": "code",
   "execution_count": null,
   "id": "c1e5d038",
   "metadata": {},
   "outputs": [],
   "source": []
  },
  {
   "cell_type": "code",
   "execution_count": null,
   "id": "7c9c65b9",
   "metadata": {},
   "outputs": [],
   "source": []
  },
  {
   "cell_type": "code",
   "execution_count": null,
   "id": "b1dc0435",
   "metadata": {},
   "outputs": [],
   "source": []
  },
  {
   "cell_type": "code",
   "execution_count": null,
   "id": "3dfee86c",
   "metadata": {},
   "outputs": [],
   "source": []
  },
  {
   "cell_type": "code",
   "execution_count": null,
   "id": "a7768566",
   "metadata": {},
   "outputs": [],
   "source": []
  },
  {
   "cell_type": "code",
   "execution_count": null,
   "id": "5706d23a",
   "metadata": {},
   "outputs": [],
   "source": []
  },
  {
   "cell_type": "code",
   "execution_count": null,
   "id": "15b54c56",
   "metadata": {},
   "outputs": [],
   "source": []
  }
 ],
 "metadata": {
  "kernelspec": {
   "display_name": "Python 3 (ipykernel)",
   "language": "python",
   "name": "python3"
  },
  "language_info": {
   "codemirror_mode": {
    "name": "ipython",
    "version": 3
   },
   "file_extension": ".py",
   "mimetype": "text/x-python",
   "name": "python",
   "nbconvert_exporter": "python",
   "pygments_lexer": "ipython3",
   "version": "3.8.10"
  }
 },
 "nbformat": 4,
 "nbformat_minor": 5
}
