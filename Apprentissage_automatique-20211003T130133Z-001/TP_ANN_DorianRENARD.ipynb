{
 "cells": [
  {
   "cell_type": "markdown",
   "id": "1f2b9705",
   "metadata": {},
   "source": [
    "# Compte rendu TP1 Apprentissage Automatique"
   ]
  },
  {
   "cell_type": "markdown",
   "id": "d45d3740",
   "metadata": {},
   "source": [
    "## Dorian RENARD"
   ]
  },
  {
   "cell_type": "markdown",
   "id": "c21708da",
   "metadata": {},
   "source": [
    "## 1. Division de l'échantillon d'apprentissage"
   ]
  },
  {
   "cell_type": "code",
   "execution_count": 43,
   "id": "c7be1c7a",
   "metadata": {},
   "outputs": [
    {
     "name": "stdout",
     "output_type": "stream",
     "text": [
      "Pour l'apprentissage nous avons  32  setosa,  37  versicolor et  31  virginica\n"
     ]
    }
   ],
   "source": [
    "import numpy as np\n",
    "from sklearn import datasets\n",
    "\n",
    "iris = datasets.load_iris()\n",
    "\n",
    "Ciris = np.c_[iris.data.reshape(len(iris.data), -1), iris.target.reshape(len(iris.target), -1)]\n",
    "np.random.seed(987654321)\n",
    "np.random.shuffle(Ciris)\n",
    "shuffledIrisData = Ciris[ :, :iris.data.size//len(iris.data)].reshape(iris.data.shape)\n",
    "shuffledIrisTarget = Ciris[ :, iris.data.size//len(iris.data) :].reshape(iris.target.shape)\n",
    "\n",
    "compteur_0 = 0\n",
    "compteur_1 = 0\n",
    "compteur_2 = 0\n",
    "\n",
    "#On parcours les 100 premières fleurs et on compte le notre de setosa, versicolor et virginica\n",
    "for i in shuffledIrisTarget[0:100] :\n",
    "    if i == 0 :\n",
    "        compteur_0 += 1\n",
    "        \n",
    "    elif i == 1 :\n",
    "        compteur_1 += 1\n",
    "    else :\n",
    "        compteur_2 += 1\n",
    "        \n",
    "total = compteur_0 + compteur_1 + compteur_2\n",
    "\n",
    "print(\"Pour l'apprentissage nous avons \", compteur_0, \" setosa, \", compteur_1, \" versicolor et \", compteur_2, \" virginica\")"
   ]
  },
  {
   "cell_type": "markdown",
   "id": "dbf66b1d",
   "metadata": {},
   "source": [
    "## 2. Phase d'apprentissage"
   ]
  },
  {
   "cell_type": "code",
   "execution_count": 44,
   "id": "6e442fc5",
   "metadata": {},
   "outputs": [
    {
     "name": "stdout",
     "output_type": "stream",
     "text": [
      "----------À priori----------\n",
      "La probabilité à priori des setosa est :  0.32\n",
      "La probabilité à priori des versicolor est :  0.37\n",
      "La probabilité à priori des virginica est :  0.31\n",
      "\n",
      "----------Moyenne----------\n",
      "La moyenne des setosa est :  [4.971875 3.40625  1.459375 0.23125 ]\n",
      "La moyenne des vesicolor est :  [5.82972973 2.75405405 4.16756757 1.28918919]\n",
      "La moyenne des virginica est :  [6.54516129 3.01612903 5.51290323 2.02903226]\n",
      "\n",
      "----------Variance----------\n",
      "La variance des setosa est :  [0.10264648 0.11808594 0.03741211 0.00902344]\n",
      "La variance des versicolor est :  [0.23776479 0.09869978 0.19786706 0.0328561 ]\n",
      "La variance des virginica est :  [0.27667014 0.08780437 0.25080125 0.07044745]\n",
      "\n",
      "----------Écart-type----------\n",
      "L'écart-type des setosa est :  [0.32551138 0.34913488 0.19651705 0.09651174]\n",
      "L'écart-type des versicolor est :  [0.4943373  0.31849873 0.45095827 0.18376281]\n",
      "L'écat-type des virginica est :  [0.53468914 0.30121617 0.50907886 0.26980678]\n"
     ]
    }
   ],
   "source": [
    "import scipy\n",
    "\n",
    "#Fonction qui permet de calculer les Gaussiennes\n",
    "def calcul_Gauss(x, moy, ecartType):\n",
    "    return scipy.stats.norm.pdf(x, moy, ecartType)\n",
    "\n",
    "#Calcul des probabilités à priori\n",
    "pSetosa = compteur_0 / total\n",
    "pVersicolor = compteur_1 / total\n",
    "pVirginica = compteur_2 / total\n",
    "\n",
    "print(\"----------À priori----------\")\n",
    "print(\"La probabilité à priori des setosa est : \", pSetosa)\n",
    "print(\"La probabilité à priori des versicolor est : \", pVersicolor)\n",
    "print(\"La probabilité à priori des virginica est : \", pVirginica)\n",
    "\n",
    "#Vraisemblances\n",
    "setosa = []\n",
    "versicolor = []\n",
    "virginica = []\n",
    "\n",
    "for i in range(100):\n",
    "    SepalLongueur = shuffledIrisData[i][0]\n",
    "    SepalLargeur = shuffledIrisData[i][1]\n",
    "    PetalLongueur = shuffledIrisData[i][2]\n",
    "    PetalLargeur = shuffledIrisData[i][3]\n",
    "    # On insère dans le tableau correspondant les caractéristiques de chaques fleurs\n",
    "    if shuffledIrisTarget[i] == 0:\n",
    "        setosa.append([SepalLongueur, SepalLargeur, PetalLongueur, PetalLargeur])\n",
    "    elif shuffledIrisTarget[i] == 1:\n",
    "        versicolor.append([SepalLongueur, SepalLargeur, PetalLongueur, PetalLargeur])\n",
    "    elif shuffledIrisTarget[i] == 2:\n",
    "        virginica.append([SepalLongueur, SepalLargeur, PetalLongueur, PetalLargeur])\n",
    "        \n",
    "print(\"\\n----------Moyenne----------\")\n",
    "#On calcul les moyennes de chaques caractéristiques pour les 3 types de fleurs\n",
    "moySetosa = np.mean(setosa, 0)\n",
    "moyVersicolor = np.mean(versicolor, 0)\n",
    "moyVirginica = np.mean(virginica, 0)\n",
    "print(\"La moyenne des setosa est : \", moySetosa)\n",
    "print(\"La moyenne des vesicolor est : \", moyVersicolor)\n",
    "print(\"La moyenne des virginica est : \", moyVirginica)\n",
    "\n",
    "print(\"\\n----------Variance----------\")\n",
    "#Même chose que les moyennes mais pour la variance\n",
    "varSetosa = np.var(setosa, 0)\n",
    "varVersicolor = np.var(versicolor, 0)\n",
    "varVirginica = np.var(virginica, 0)\n",
    "print(\"La variance des setosa est : \", varSetosa)\n",
    "print(\"La variance des versicolor est : \", varVersicolor)\n",
    "print(\"La variance des virginica est : \", varVirginica)\n",
    "\n",
    "print(\"\\n----------Écart-type----------\")\n",
    "#Même chose mais pour l'écart-type\n",
    "ecartSetosa = np.std(setosa, 0, ddof=1)\n",
    "ecartVersicolor = np.std(versicolor, 0, ddof=1)\n",
    "ecartVirginica = np.std(virginica, 0, ddof=1)\n",
    "print(\"L'écart-type des setosa est : \", ecartSetosa)\n",
    "print(\"L'écart-type des versicolor est : \", ecartVersicolor)\n",
    "print(\"L'écat-type des virginica est : \", ecartVirginica)\n"
   ]
  },
  {
   "cell_type": "markdown",
   "id": "565ea62f",
   "metadata": {},
   "source": [
    "## 3. Phase de développement"
   ]
  },
  {
   "cell_type": "markdown",
   "id": "57b1431c",
   "metadata": {},
   "source": [
    "#### Modèle 1 - SepalLength/SepalWidth/PetalLength/PetalWidth"
   ]
  },
  {
   "cell_type": "code",
   "execution_count": 45,
   "id": "920ffa6a",
   "metadata": {},
   "outputs": [
    {
     "name": "stdout",
     "output_type": "stream",
     "text": [
      "\n",
      " Le pourcentage d'erreur est de :  13.333333333333334  %\n"
     ]
    }
   ],
   "source": [
    "#On s'intéresse maitenant aux fleurs comprise entre 100 et 130\n",
    "donnee = shuffledIrisTarget[100:130]\n",
    "data = shuffledIrisData[100:130]\n",
    "\n",
    "#Modèle a 4 caractéristiques des setosa\n",
    "def Modele1APosterioriSetosa(setosaSepalLength, setosaSepalWidth, setosaPetalLength, setosaPetalWidth):\n",
    "    probaSepalLengthSetosa = calcul_Gauss(setosaSepalLength, moySetosa[0], ecartSetosa[0])\n",
    "    probaSepalWidthSetosa = calcul_Gauss(setosaSepalWidth, moySetosa[1], ecartSetosa[1])\n",
    "    probaPetalLengthSetosa = calcul_Gauss(setosaPetalLength, moySetosa[2], ecartSetosa[2])\n",
    "    probaPetalWidthSetosa = calcul_Gauss(setosaPetalWidth, moySetosa[3], ecartSetosa[3])\n",
    "    aPosterioriSetosa = probaSepalLengthSetosa * probaSepalWidthSetosa * probaPetalLengthSetosa * probaPetalWidthSetosa * pSetosa\n",
    "    #On retourne la probabilité à postériori pour ensuite faire les pronostiques des résultats\n",
    "    return aPosterioriSetosa\n",
    "\n",
    "#Modèle a 4 caractéristiques des versicolor\n",
    "def Modele1APosterioriVersicolor(versicolorSepalLength, versicolorSepalWidth, versicolorPetalLength, versicolorPetalWidth):\n",
    "    probaSepalLengthVersicolor = calcul_Gauss(versicolorSepalLength, moyVersicolor[0], ecartVersicolor[0])\n",
    "    probaSepalWidthVersicolor = calcul_Gauss(versicolorSepalWidth, moyVersicolor[1], ecartVersicolor[1])\n",
    "    probaPetalLengthVersicolor = calcul_Gauss(versicolorPetalLength, moyVersicolor[2], ecartVersicolor[2])\n",
    "    probaPetalWidthVersicolor = calcul_Gauss(versicolorPetalWidth, moyVersicolor[3], ecartVersicolor[3])\n",
    "    aPosterioriVersicolor = probaSepalLengthVersicolor * probaSepalWidthVersicolor * probaPetalLengthVersicolor * probaPetalWidthVersicolor * pVersicolor\n",
    "    #On retourne la probabilité à postériori pour ensuite faire les pronostiques des résultats\n",
    "    return aPosterioriVersicolor\n",
    "\n",
    "#Modèle a 4 caractéristiques des virginica\n",
    "def Modele1APosterioriVirginica(virginicaSepalLength, virginicaSepalWidth, virginicaPetalLength, virginicaPetalWidth):\n",
    "    probaSepalLengthVirginica = calcul_Gauss(virginicaSepalLength, moyVirginica[0], ecartVirginica[0])\n",
    "    probaSepalWidthVirginica = calcul_Gauss(virginicaSepalWidth, moyVirginica[1], ecartVirginica[1])\n",
    "    probaPetalLengthVirginica = calcul_Gauss(virginicaPetalLength, moyVirginica[2], ecartVirginica[2])\n",
    "    probaPetalWidthVirginica = calcul_Gauss(virginicaPetalWidth, moyVirginica[3], ecartVirginica[3])\n",
    "    aPosterioriVirginica = probaSepalLengthVirginica * probaSepalWidthVirginica * probaPetalLengthVirginica * probaPetalWidthVirginica * pVirginica\n",
    "    #On retourne la probabilité à postériori pour ensuite faire les pronostiques des résultats\n",
    "    return aPosterioriVirginica\n",
    "\n",
    "#Cette fonction permet d'insérer dans un tableau toutes les probabilités à priori suivant les types de fleurs\n",
    "def tableauAPosteriori():\n",
    "    tableau = []\n",
    "    \n",
    "    for i in range(30):\n",
    "        SepalLength = data[i][0]\n",
    "        SepalWidth = data[i][1]\n",
    "        PetalLength = data[i][2]\n",
    "        PetalWidth = data[i][3]\n",
    "        tableau.append([Modele1APosterioriSetosa(SepalLength, SepalWidth, PetalLength, PetalWidth), \n",
    "                       Modele1APosterioriVersicolor(SepalLength, SepalWidth, PetalLength, PetalWidth), \n",
    "                       Modele1APosterioriVirginica(SepalLength, SepalWidth, PetalLength, PetalWidth)])\n",
    "    return tableau\n",
    "\n",
    "#Cette fonction permet de calculer le pourcentage d'erreur du modèle\n",
    "def pourcentage_erreur(Modele):\n",
    "    compteur_erreur = 0\n",
    "    \n",
    "    for i in range(30):\n",
    "        if donnee[i] != np.argmax(Modele[i]):\n",
    "            compteur_erreur += 1\n",
    "    \n",
    "    return (compteur_erreur/30)*100\n",
    "\n",
    "tabModele1ProbaAPosteriori = tableauAPosteriori()\n",
    "print(\"\\n Le pourcentage d'erreur est de : \", pourcentage_erreur(tabModele1ProbaAPosteriori), \" %\")\n",
    "\n",
    "    "
   ]
  },
  {
   "cell_type": "markdown",
   "id": "1142b5e8",
   "metadata": {},
   "source": [
    "#### Modèle 2 - SepalLength/SepalWidth/PetalLength"
   ]
  },
  {
   "cell_type": "code",
   "execution_count": 46,
   "id": "b776e29d",
   "metadata": {},
   "outputs": [
    {
     "name": "stdout",
     "output_type": "stream",
     "text": [
      "\n",
      " Le pourcentage d'erreur est de :  16.666666666666664  %\n"
     ]
    }
   ],
   "source": [
    "#Modèle avec SepalLength/SepalWidth/PetalLength pour les setosa\n",
    "def Modele2APosterioriSetosa(setosaSepalLength, setosaSepalWidth, setosaPetalLength):\n",
    "    probaSepalLengthSetosa = calcul_Gauss(setosaSepalLength, moySetosa[0], ecartSetosa[0])\n",
    "    probaSepalWidthSetosa = calcul_Gauss(setosaSepalWidth, moySetosa[1], ecartSetosa[1])\n",
    "    probaPetalLengthSetosa = calcul_Gauss(setosaPetalLength, moySetosa[2], ecartSetosa[2])\n",
    "    aPosterioriSetosa = probaSepalLengthSetosa * probaSepalWidthSetosa * probaPetalLengthSetosa * pSetosa\n",
    "    #On retourne la probabilité à postériori pour ensuite faire les pronostiques des résultats    \n",
    "    return aPosterioriSetosa\n",
    "\n",
    "#Modèle avec SepalLength/SepalWidth/PetalLength pour les versicolor\n",
    "def Modele2APosterioriVersicolor(versicolorSepalLength, versicolorSepalWidth, versicolorPetalLength):\n",
    "    probaSepalLengthVersicolor = calcul_Gauss(versicolorSepalLength, moyVersicolor[0], ecartVersicolor[0])\n",
    "    probaSepalWidthVersicolor = calcul_Gauss(versicolorSepalWidth, moyVersicolor[1], ecartVersicolor[1])\n",
    "    probaPetalLengthVersicolor = calcul_Gauss(versicolorPetalLength, moyVersicolor[2], ecartVersicolor[2])\n",
    "    aPosterioriVersicolor = probaSepalLengthVersicolor * probaSepalWidthVersicolor * probaPetalLengthVersicolor * pVersicolor\n",
    "    #On retourne la probabilité à postériori pour ensuite faire les pronostiques des résultats    \n",
    "    return aPosterioriVersicolor\n",
    "\n",
    "#Modèle avec SepalLength/SepalWidth/PetalLength pour les virginica\n",
    "def Modele2APosterioriVirginica(virginicaSepalLength, virginicaSepalWidth, virginicaPetalLength):\n",
    "    probaSepalLengthVirginica = calcul_Gauss(virginicaSepalLength, moyVirginica[0], ecartVirginica[0])\n",
    "    probaSepalWidthVirginica = calcul_Gauss(virginicaSepalWidth, moyVirginica[1], ecartVirginica[1])\n",
    "    probaPetalLengthVirginica = calcul_Gauss(virginicaPetalLength, moyVirginica[2], ecartVirginica[2])\n",
    "    aPosterioriVirginica = probaSepalLengthVirginica * probaSepalWidthVirginica * probaPetalLengthVirginica * pVirginica\n",
    "    #On retourne la probabilité à postériori pour ensuite faire les pronostiques des résultats\n",
    "    return aPosterioriVirginica\n",
    "\n",
    "#Cette fonction permet d'insérer dans un tableau toutes les probabilités à priori suivant les types de fleurs\n",
    "def tableauAPosteriori():\n",
    "    tableau = []\n",
    "    \n",
    "    for i in range(30):\n",
    "        SepalLength = data[i][0]\n",
    "        SepalWidth = data[i][1]\n",
    "        PetalLength = data[i][2]\n",
    "        tableau.append([Modele2APosterioriSetosa(SepalLength, SepalWidth, PetalLength), \n",
    "                       Modele2APosterioriVersicolor(SepalLength, SepalWidth, PetalLength), \n",
    "                       Modele2APosterioriVirginica(SepalLength, SepalWidth, PetalLength)])\n",
    "    return tableau\n",
    "\n",
    "tabModele2ProbaAPosteriori = tableauAPosteriori()\n",
    "print(\"\\n Le pourcentage d'erreur est de : \", pourcentage_erreur(tabModele2ProbaAPosteriori), \" %\")"
   ]
  },
  {
   "cell_type": "markdown",
   "id": "08f3239e",
   "metadata": {},
   "source": [
    "#### Modèle 3 - SepalLength/SepalWidth/PetalWidth"
   ]
  },
  {
   "cell_type": "code",
   "execution_count": 47,
   "id": "6ecdd3a3",
   "metadata": {},
   "outputs": [
    {
     "name": "stdout",
     "output_type": "stream",
     "text": [
      "\n",
      " Le pourcentage d'erreur est de :  13.333333333333334  %\n"
     ]
    }
   ],
   "source": [
    "#Modèle avec SepalLength/SepalWidth/PetalWidth pour les setosa\n",
    "def Modele3APosterioriSetosa(setosaSepalLength, setosaSepalWidth, setosaPetalWidth):\n",
    "    probaSepalLengthSetosa = calcul_Gauss(setosaSepalLength, moySetosa[0], ecartSetosa[0])\n",
    "    probaSepalWidthSetosa = calcul_Gauss(setosaSepalWidth, moySetosa[1], ecartSetosa[1])\n",
    "    probaPetalWidthSetosa = calcul_Gauss(setosaPetalWidth, moySetosa[3], ecartSetosa[3])\n",
    "    aPosterioriSetosa = probaSepalLengthSetosa * probaSepalWidthSetosa * probaPetalWidthSetosa * pSetosa\n",
    "    #On retourne la probabilité à postériori pour ensuite faire les pronostiques des résultats    \n",
    "    return aPosterioriSetosa\n",
    "\n",
    "#Modèle avec SepalLength/SepalWidth/PetalWidth pour les versicolor\n",
    "def Modele3APosterioriVersicolor(versicolorSepalLength, versicolorSepalWidth, versicolorPetalWidth):\n",
    "    probaSepalLengthVersicolor = calcul_Gauss(versicolorSepalLength, moyVersicolor[0], ecartVersicolor[0])\n",
    "    probaSepalWidthVersicolor = calcul_Gauss(versicolorSepalWidth, moyVersicolor[1], ecartVersicolor[1])\n",
    "    probaPetalWidthVersicolor = calcul_Gauss(versicolorPetalWidth, moyVersicolor[3], ecartVersicolor[3])\n",
    "    aPosterioriVersicolor = probaSepalLengthVersicolor * probaSepalWidthVersicolor * probaPetalWidthVersicolor * pVersicolor\n",
    "    #On retourne la probabilité à postériori pour ensuite faire les pronostiques des résultats    \n",
    "    return aPosterioriVersicolor\n",
    "\n",
    "#Modèle avec SepalLength/SepalWidth/PetalWidth pour les virginica\n",
    "def Modele3APosterioriVirginica(virginicaSepalLength, virginicaSepalWidth, virginicaPetalWidth):\n",
    "    probaSepalLengthVirginica = calcul_Gauss(virginicaSepalLength, moyVirginica[0], ecartVirginica[0])\n",
    "    probaSepalWidthVirginica = calcul_Gauss(virginicaSepalWidth, moyVirginica[1], ecartVirginica[1])\n",
    "    probaPetalWidthVirginica = calcul_Gauss(virginicaPetalWidth, moyVirginica[3], ecartVirginica[3])\n",
    "    aPosterioriVirginica = probaSepalLengthVirginica * probaSepalWidthVirginica * probaPetalWidthVirginica * pVirginica\n",
    "    #On retourne la probabilité à postériori pour ensuite faire les pronostiques des résultats    \n",
    "    return aPosterioriVirginica\n",
    "\n",
    "#Cette fonction permet d'insérer dans un tableau toutes les probabilités à priori suivant les types de fleurs\n",
    "def tableauAPosteriori():\n",
    "    tableau = []\n",
    "    \n",
    "    for i in range(30):\n",
    "        SepalLength = data[i][0]\n",
    "        SepalWidth = data[i][1]\n",
    "        PetalWidth = data[i][3]\n",
    "        tableau.append([Modele3APosterioriSetosa(SepalLength, SepalWidth, PetalWidth), \n",
    "                       Modele3APosterioriVersicolor(SepalLength, SepalWidth, PetalWidth), \n",
    "                       Modele3APosterioriVirginica(SepalLength, SepalWidth, PetalWidth)])\n",
    "    return tableau\n",
    "\n",
    "tabModele3ProbaAPosteriori = tableauAPosteriori()\n",
    "print(\"\\n Le pourcentage d'erreur est de : \", pourcentage_erreur(tabModele3ProbaAPosteriori), \" %\")"
   ]
  },
  {
   "cell_type": "markdown",
   "id": "24b490a4",
   "metadata": {},
   "source": [
    "#### Modèle 4 - SepalLength/PetalLength/PetalWidth"
   ]
  },
  {
   "cell_type": "code",
   "execution_count": 48,
   "id": "27491780",
   "metadata": {},
   "outputs": [
    {
     "name": "stdout",
     "output_type": "stream",
     "text": [
      "\n",
      " Le pourcentage d'erreur est de :  10.0  %\n"
     ]
    }
   ],
   "source": [
    "#Modèle avec SepalLength/PetalLength/PetalWidth pour les setosa\n",
    "def Modele4APosterioriSetosa(setosaSepalLength, setosaPetalLength, setosaPetalWidth):\n",
    "    probaSepalLengthSetosa = calcul_Gauss(setosaSepalLength, moySetosa[0], ecartSetosa[0])\n",
    "    probaPetalLengthSetosa = calcul_Gauss(setosaPetalLength, moySetosa[2], ecartSetosa[2])\n",
    "    probaPetalWidthSetosa = calcul_Gauss(setosaPetalWidth, moySetosa[3], ecartSetosa[3])\n",
    "    aPosterioriSetosa = probaSepalLengthSetosa * probaPetalLengthSetosa * probaPetalWidthSetosa * pSetosa\n",
    "    #On retourne la probabilité à postériori pour ensuite faire les pronostiques des résultats    \n",
    "    return aPosterioriSetosa\n",
    "\n",
    "#Modèle avec SepalLength/PetalLength/PetalWidth pour les versicolor\n",
    "def Modele4APosterioriVersicolor(versicolorSepalLength, versicolorPetalLength, versicolorPetalWidth):\n",
    "    probaSepalLengthVersicolor = calcul_Gauss(versicolorSepalLength, moyVersicolor[0], ecartVersicolor[0])\n",
    "    probaPetalLengthVersicolor = calcul_Gauss(versicolorPetalLength, moyVersicolor[2], ecartVersicolor[2])\n",
    "    probaPetalWidthVersicolor = calcul_Gauss(versicolorPetalWidth, moyVersicolor[3], ecartVersicolor[3])\n",
    "    aPosterioriVersicolor = probaSepalLengthVersicolor * probaPetalLengthVersicolor * probaPetalWidthVersicolor * pVersicolor\n",
    "    #On retourne la probabilité à postériori pour ensuite faire les pronostiques des résultats    \n",
    "    return aPosterioriVersicolor\n",
    "\n",
    "#Modèle avec SepalLength/PetalLength/PetalWidth pour les virginica\n",
    "def Modele4APosterioriVirginica(virginicaSepalLength, virginicaPetalLength, virginicaPetalWidth):\n",
    "    probaSepalLengthVirginica = calcul_Gauss(virginicaSepalLength, moyVirginica[0], ecartVirginica[0])\n",
    "    probaPetalLengthVirginica = calcul_Gauss(virginicaPetalLength, moyVirginica[2], ecartVirginica[2])\n",
    "    probaPetalWidthVirginica = calcul_Gauss(virginicaPetalWidth, moyVirginica[3], ecartVirginica[3])\n",
    "    aPosterioriVirginica = probaSepalLengthVirginica * probaPetalLengthVirginica * probaPetalWidthVirginica * pVirginica\n",
    "    #On retourne la probabilité à postériori pour ensuite faire les pronostiques des résultats    \n",
    "    return aPosterioriVirginica\n",
    "\n",
    "#Cette fonction permet d'insérer dans un tableau toutes les probabilités à priori suivant les types de fleurs\n",
    "def tableauAPosteriori():\n",
    "    tableau = []\n",
    "    \n",
    "    for i in range(30):\n",
    "        SepalLength = data[i][0]\n",
    "        PetalLength = data[i][2]\n",
    "        PetalWidth = data[i][3]\n",
    "        tableau.append([Modele4APosterioriSetosa(SepalLength, PetalLength, PetalWidth), \n",
    "                       Modele4APosterioriVersicolor(SepalLength, PetalLength, PetalWidth), \n",
    "                       Modele4APosterioriVirginica(SepalLength, PetalLength, PetalWidth)])\n",
    "    return tableau\n",
    "\n",
    "tabModele4ProbaAPosteriori = tableauAPosteriori()\n",
    "print(\"\\n Le pourcentage d'erreur est de : \", pourcentage_erreur(tabModele4ProbaAPosteriori), \" %\")"
   ]
  },
  {
   "cell_type": "markdown",
   "id": "ddd623ef",
   "metadata": {},
   "source": [
    "#### Modèle 5 - SepalWidth/PetalLength/PetalWidth"
   ]
  },
  {
   "cell_type": "code",
   "execution_count": 49,
   "id": "952c6580",
   "metadata": {},
   "outputs": [
    {
     "name": "stdout",
     "output_type": "stream",
     "text": [
      "\n",
      " Le pourcentage d'erreur est de :  13.333333333333334  %\n"
     ]
    }
   ],
   "source": [
    "#Modèle avec SepalWidth/PetalLength/PetalWidth pour les setosa\n",
    "def Modele5APosterioriSetosa(setosaSepalWidth, setosaPetalLength, setosaPetalWidth):\n",
    "    probaSepalWidthSetosa = calcul_Gauss(setosaSepalWidth, moySetosa[1], ecartSetosa[1])\n",
    "    probaPetalLengthSetosa = calcul_Gauss(setosaPetalLength, moySetosa[2], ecartSetosa[2])\n",
    "    probaPetalWidthSetosa = calcul_Gauss(setosaPetalWidth, moySetosa[3], ecartSetosa[3])\n",
    "    aPosterioriSetosa = probaSepalWidthSetosa * probaPetalLengthSetosa * probaPetalWidthSetosa * pSetosa\n",
    "    #On retourne la probabilité à postériori pour ensuite faire les pronostiques des résultats    \n",
    "    return aPosterioriSetosa\n",
    "\n",
    "#Modèle avec SepalWidth/PetalLength/PetalWidth pour les versicolor\n",
    "def Modele5APosterioriVersicolor(versicolorSepalWidth, versicolorPetalLength, versicolorPetalWidth):\n",
    "    probaSepalWidthVersicolor = calcul_Gauss(versicolorSepalWidth, moyVersicolor[1], ecartVersicolor[1])\n",
    "    probaPetalLengthVersicolor = calcul_Gauss(versicolorPetalLength, moyVersicolor[2], ecartVersicolor[2])\n",
    "    probaPetalWidthVersicolor = calcul_Gauss(versicolorPetalWidth, moyVersicolor[3], ecartVersicolor[3])\n",
    "    aPosterioriVersicolor = probaSepalWidthVersicolor * probaPetalLengthVersicolor * probaPetalWidthVersicolor * pVersicolor\n",
    "    #On retourne la probabilité à postériori pour ensuite faire les pronostiques des résultats    \n",
    "    return aPosterioriVersicolor\n",
    "\n",
    "#Modèle avec SepalWidth/PetalLength/PetalWidth pour les virginica\n",
    "def Modele5APosterioriVirginica(virginicaSepalWidth, virginicaPetalLength, virginicaPetalWidth):\n",
    "    probaSepalWidthVirginica = calcul_Gauss(virginicaSepalWidth, moyVirginica[1], ecartVirginica[1])\n",
    "    probaPetalLengthVirginica = calcul_Gauss(virginicaPetalLength, moyVirginica[2], ecartVirginica[2])\n",
    "    probaPetalWidthVirginica = calcul_Gauss(virginicaPetalWidth, moyVirginica[3], ecartVirginica[3])\n",
    "    aPosterioriVirginica = probaSepalWidthVirginica * probaPetalLengthVirginica * probaPetalWidthVirginica * pVirginica\n",
    "    #On retourne la probabilité à postériori pour ensuite faire les pronostiques des résultats    \n",
    "    return aPosterioriVirginica\n",
    "\n",
    "#Cette fonction permet d'insérer dans un tableau toutes les probabilités à priori suivant les types de fleurs\n",
    "def tableauAPosteriori():\n",
    "    tableau = []\n",
    "    \n",
    "    for i in range(30):\n",
    "        SepalWidth = data[i][1]\n",
    "        PetalLength = data[i][2]\n",
    "        PetalWidth = data[i][3]\n",
    "        tableau.append([Modele5APosterioriSetosa(SepalWidth, PetalLength, PetalWidth), \n",
    "                       Modele5APosterioriVersicolor(SepalWidth, PetalLength, PetalWidth), \n",
    "                       Modele5APosterioriVirginica(SepalWidth, PetalLength, PetalWidth)])\n",
    "    return tableau\n",
    "\n",
    "tabModele5ProbaAPosteriori = tableauAPosteriori()\n",
    "print(\"\\n Le pourcentage d'erreur est de : \", pourcentage_erreur(tabModele5ProbaAPosteriori), \" %\")"
   ]
  },
  {
   "cell_type": "markdown",
   "id": "ff430abd",
   "metadata": {},
   "source": [
    "#### Modèle 6 - SepalLength/SepalWidth"
   ]
  },
  {
   "cell_type": "code",
   "execution_count": 50,
   "id": "67eb8f36",
   "metadata": {},
   "outputs": [
    {
     "name": "stdout",
     "output_type": "stream",
     "text": [
      "\n",
      " Le pourcentage d'erreur est de :  20.0  %\n"
     ]
    }
   ],
   "source": [
    "#Modèle avec SepalLength/SepalWidth pour les setosa\n",
    "def Modele6APosterioriSetosa(setosaSepalLength, setosaSepalWidth):\n",
    "    probaSepalLengthSetosa = calcul_Gauss(setosaSepalLength, moySetosa[0], ecartSetosa[0])\n",
    "    probaSepalWidthSetosa = calcul_Gauss(setosaSepalWidth, moySetosa[1], ecartSetosa[1])\n",
    "    aPosterioriSetosa = probaSepalLengthSetosa * probaSepalWidthSetosa * pSetosa\n",
    "    #On retourne la probabilité à postériori pour ensuite faire les pronostiques des résultats    \n",
    "    return aPosterioriSetosa\n",
    "\n",
    "#Modèle avec SepalLength/SepalWidth pour les versicolor\n",
    "def Modele6APosterioriVersicolor(versicolorSepalLength, versicolorSepalWidth):\n",
    "    probaSepalLengthVersicolor = calcul_Gauss(versicolorSepalLength, moyVersicolor[0], ecartVersicolor[0])\n",
    "    probaSepalWidthVersicolor = calcul_Gauss(versicolorSepalWidth, moyVersicolor[1], ecartVersicolor[1])\n",
    "    aPosterioriVersicolor = probaSepalLengthVersicolor * probaSepalWidthVersicolor * pVersicolor\n",
    "    #On retourne la probabilité à postériori pour ensuite faire les pronostiques des résultats    \n",
    "    return aPosterioriVersicolor\n",
    "\n",
    "#Modèle avec SepalLength/SepalWidth pour les virginica\n",
    "def Modele6APosterioriVirginica(virginicaSepalLength, virginicaSepalWidth):\n",
    "    probaSepalLengthVirginica = calcul_Gauss(virginicaSepalLength, moyVirginica[0], ecartVirginica[0])\n",
    "    probaSepalWidthVirginica = calcul_Gauss(virginicaSepalWidth, moyVirginica[1], ecartVirginica[1])\n",
    "    aPosterioriVirginica = probaSepalLengthVirginica * probaSepalWidthVirginica * pVirginica\n",
    "    #On retourne la probabilité à postériori pour ensuite faire les pronostiques des résultats    \n",
    "    return aPosterioriVirginica\n",
    "\n",
    "#Cette fonction permet d'insérer dans un tableau toutes les probabilités à priori suivant les types de fleurs\n",
    "def tableauAPosteriori():\n",
    "    tableau = []\n",
    "    \n",
    "    for i in range(30):\n",
    "        SepalLength = data[i][0]\n",
    "        SepalWidth = data[i][1]\n",
    "        tableau.append([Modele6APosterioriSetosa(SepalLength, SepalWidth), \n",
    "                       Modele6APosterioriVersicolor(SepalLength, SepalWidth), \n",
    "                       Modele6APosterioriVirginica(SepalLength, SepalWidth)])\n",
    "    return tableau\n",
    "\n",
    "tabModele6ProbaAPosteriori = tableauAPosteriori()\n",
    "print(\"\\n Le pourcentage d'erreur est de : \", pourcentage_erreur(tabModele6ProbaAPosteriori), \" %\")"
   ]
  },
  {
   "cell_type": "markdown",
   "id": "f22d638a",
   "metadata": {},
   "source": [
    "#### Modèle 7 - SepalLength/PetalLength"
   ]
  },
  {
   "cell_type": "code",
   "execution_count": 51,
   "id": "ecd96420",
   "metadata": {},
   "outputs": [
    {
     "name": "stdout",
     "output_type": "stream",
     "text": [
      "\n",
      " Le pourcentage d'erreur est de :  13.333333333333334  %\n"
     ]
    }
   ],
   "source": [
    "#Modèle avec SepalLength/PetalLength pour les setosa\n",
    "def Modele7APosterioriSetosa(setosaSepalLength, setosaPetalLength):\n",
    "    probaSepalLengthSetosa = calcul_Gauss(setosaSepalLength, moySetosa[0], ecartSetosa[0])\n",
    "    probaPetalLengthSetosa = calcul_Gauss(setosaPetalLength, moySetosa[2], ecartSetosa[2])\n",
    "    aPosterioriSetosa = probaSepalLengthSetosa * probaPetalLengthSetosa * pSetosa\n",
    "    #On retourne la probabilité à postériori pour ensuite faire les pronostiques des résultats    \n",
    "    return aPosterioriSetosa\n",
    "\n",
    "#Modèle avec SepalLength/PetalLength pour les versicolor\n",
    "def Modele7APosterioriVersicolor(versicolorSepalLength, versicolorPetalLength):\n",
    "    probaSepalLengthVersicolor = calcul_Gauss(versicolorSepalLength, moyVersicolor[0], ecartVersicolor[0])\n",
    "    probaPetalLengthVersicolor = calcul_Gauss(versicolorPetalLength, moyVersicolor[2], ecartVersicolor[2])\n",
    "    aPosterioriVersicolor = probaSepalLengthVersicolor * probaPetalLengthVersicolor * pVersicolor\n",
    "    #On retourne la probabilité à postériori pour ensuite faire les pronostiques des résultats    \n",
    "    return aPosterioriVersicolor\n",
    "\n",
    "#Modèle avec SepalLength/PetalLength pour les virginica\n",
    "def Modele7APosterioriVirginica(virginicaSepalLength, virginicaPetalLength):\n",
    "    probaSepalLengthVirginica = calcul_Gauss(virginicaSepalLength, moyVirginica[0], ecartVirginica[0])\n",
    "    probaPetalLengthVirginica = calcul_Gauss(virginicaPetalLength, moyVirginica[2], ecartVirginica[2])\n",
    "    aPosterioriVirginica = probaSepalLengthVirginica * probaPetalLengthVirginica * pVirginica\n",
    "    #On retourne la probabilité à postériori pour ensuite faire les pronostiques des résultats    \n",
    "    return aPosterioriVirginica\n",
    "\n",
    "#Cette fonction permet d'insérer dans un tableau toutes les probabilités à priori suivant les types de fleurs\n",
    "def tableauAPosteriori():\n",
    "    tableau = []\n",
    "    \n",
    "    for i in range(30):\n",
    "        SepalLength = data[i][0]\n",
    "        PetalLength = data[i][2]\n",
    "        tableau.append([Modele7APosterioriSetosa(SepalLength, PetalLength), \n",
    "                       Modele7APosterioriVersicolor(SepalLength, PetalLength), \n",
    "                       Modele7APosterioriVirginica(SepalLength, PetalLength)])\n",
    "    return tableau\n",
    "\n",
    "tabModele7ProbaAPosteriori = tableauAPosteriori()\n",
    "print(\"\\n Le pourcentage d'erreur est de : \", pourcentage_erreur(tabModele7ProbaAPosteriori), \" %\")"
   ]
  },
  {
   "cell_type": "markdown",
   "id": "fa7f1fc3",
   "metadata": {},
   "source": [
    "#### Modèle 8 - SepalLength/PetalWidth"
   ]
  },
  {
   "cell_type": "code",
   "execution_count": 52,
   "id": "cc4e0d07",
   "metadata": {},
   "outputs": [
    {
     "name": "stdout",
     "output_type": "stream",
     "text": [
      "\n",
      " Le pourcentage d'erreur est de :  10.0  %\n"
     ]
    }
   ],
   "source": [
    "#Modèle avec SepalLength/PetalWidth pour les setosa\n",
    "def Modele8APosterioriSetosa(setosaSepalLength, setosaPetalWidth):\n",
    "    probaSepalLengthSetosa = calcul_Gauss(setosaSepalLength, moySetosa[0], ecartSetosa[0])\n",
    "    probaPetalWidthSetosa = calcul_Gauss(setosaPetalWidth, moySetosa[3], ecartSetosa[3])\n",
    "    aPosterioriSetosa = probaSepalLengthSetosa * probaPetalWidthSetosa * pSetosa\n",
    "    #On retourne la probabilité à postériori pour ensuite faire les pronostiques des résultats    \n",
    "    return aPosterioriSetosa\n",
    "\n",
    "#Modèle avec SepalLength/PetalWidth pour les versicolor\n",
    "def Modele8APosterioriVersicolor(versicolorSepalLength, versicolorPetalWidth):\n",
    "    probaSepalLengthVersicolor = calcul_Gauss(versicolorSepalLength, moyVersicolor[0], ecartVersicolor[0])\n",
    "    probaPetalWidthVersicolor = calcul_Gauss(versicolorPetalWidth, moyVersicolor[3], ecartVersicolor[3])\n",
    "    aPosterioriVersicolor = probaSepalLengthVersicolor * probaPetalWidthVersicolor * pVersicolor\n",
    "    #On retourne la probabilité à postériori pour ensuite faire les pronostiques des résultats    \n",
    "    return aPosterioriVersicolor\n",
    "\n",
    "#Modèle avec SepalLength/PetalWidth pour les virginica\n",
    "def Modele8APosterioriVirginica(virginicaSepalLength, virginicaPetalWidth):\n",
    "    probaSepalLengthVirginica = calcul_Gauss(virginicaSepalLength, moyVirginica[0], ecartVirginica[0])\n",
    "    probaPetalWidthVirginica = calcul_Gauss(virginicaPetalWidth, moyVirginica[3], ecartVirginica[3])\n",
    "    aPosterioriVirginica = probaSepalLengthVirginica * probaPetalWidthVirginica * pVirginica\n",
    "    #On retourne la probabilité à postériori pour ensuite faire les pronostiques des résultats    \n",
    "    return aPosterioriVirginica\n",
    "\n",
    "#Cette fonction permet d'insérer dans un tableau toutes les probabilités à priori suivant les types de fleurs\n",
    "def tableauAPosteriori():\n",
    "    tableau = []\n",
    "    \n",
    "    for i in range(30):\n",
    "        SepalLength = data[i][0]\n",
    "        PetalWidth = data[i][3]\n",
    "        tableau.append([Modele8APosterioriSetosa(SepalLength, PetalWidth), \n",
    "                       Modele8APosterioriVersicolor(SepalLength, PetalWidth), \n",
    "                       Modele8APosterioriVirginica(SepalLength, PetalWidth)])\n",
    "    return tableau\n",
    "\n",
    "tabModele8ProbaAPosteriori = tableauAPosteriori()\n",
    "print(\"\\n Le pourcentage d'erreur est de : \", pourcentage_erreur(tabModele8ProbaAPosteriori), \" %\")"
   ]
  },
  {
   "cell_type": "markdown",
   "id": "1b49d74e",
   "metadata": {},
   "source": [
    "#### Modèle 9 - SepalWidth/PetalLength "
   ]
  },
  {
   "cell_type": "code",
   "execution_count": 53,
   "id": "2e9b14f1",
   "metadata": {},
   "outputs": [
    {
     "name": "stdout",
     "output_type": "stream",
     "text": [
      "\n",
      " Le pourcentage d'erreur est de :  10.0  %\n"
     ]
    }
   ],
   "source": [
    "#Modèle avec SepalWidth/PetalLength pour les setosa\n",
    "def Modele9APosterioriSetosa(setosaSepalWidth, setosaPetalLength):\n",
    "    probaSepalWidthSetosa = calcul_Gauss(setosaSepalWidth, moySetosa[1], ecartSetosa[1])\n",
    "    probaPetalLengthSetosa = calcul_Gauss(setosaPetalLength, moySetosa[2], ecartSetosa[2])\n",
    "    aPosterioriSetosa = probaSepalWidthSetosa * probaPetalLengthSetosa * pSetosa\n",
    "    #On retourne la probabilité à postériori pour ensuite faire les pronostiques des résultats    \n",
    "    return aPosterioriSetosa\n",
    "\n",
    "#Modèle avec SepalWidth/PetalLength pour les versicolor\n",
    "def Modele9APosterioriVersicolor(versicolorSepalWidth, versicolorPetalLength):\n",
    "    probaSepalWidthVersicolor = calcul_Gauss(versicolorSepalWidth, moyVersicolor[1], ecartVersicolor[1])\n",
    "    probaPetalLengthVersicolor = calcul_Gauss(versicolorPetalLength, moyVersicolor[2], ecartVersicolor[2])\n",
    "    aPosterioriVersicolor = probaSepalWidthVersicolor * probaPetalLengthVersicolor * pVersicolor\n",
    "    #On retourne la probabilité à postériori pour ensuite faire les pronostiques des résultats    \n",
    "    return aPosterioriVersicolor\n",
    "\n",
    "#Modèle avec SepalWidth/PetalLength pour les virginica\n",
    "def Modele9APosterioriVirginica(virginicaSepalWidth, virginicaPetalLength):\n",
    "    probaSepalWidthVirginica = calcul_Gauss(virginicaSepalWidth, moyVirginica[1], ecartVirginica[1])\n",
    "    probaPetalLengthVirginica = calcul_Gauss(virginicaPetalLength, moyVirginica[2], ecartVirginica[2])\n",
    "    aPosterioriVirginica = probaSepalWidthVirginica * probaPetalLengthVirginica * pVirginica\n",
    "    #On retourne la probabilité à postériori pour ensuite faire les pronostiques des résultats    \n",
    "    return aPosterioriVirginica\n",
    "\n",
    "#Cette fonction permet d'insérer dans un tableau toutes les probabilités à priori suivant les types de fleurs\n",
    "def tableauAPosteriori():\n",
    "    tableau = []\n",
    "    \n",
    "    for i in range(30):\n",
    "        SepalWidth = data[i][1]\n",
    "        PetalLength = data[i][2]\n",
    "        tableau.append([Modele9APosterioriSetosa(SepalWidth, PetalLength), \n",
    "                       Modele9APosterioriVersicolor(SepalWidth, PetalLength), \n",
    "                       Modele9APosterioriVirginica(SepalWidth, PetalLength)])\n",
    "    return tableau\n",
    "\n",
    "tabModele9ProbaAPosteriori = tableauAPosteriori()\n",
    "print(\"\\n Le pourcentage d'erreur est de : \", pourcentage_erreur(tabModele9ProbaAPosteriori), \" %\")"
   ]
  },
  {
   "cell_type": "markdown",
   "id": "1574d0a9",
   "metadata": {},
   "source": [
    "#### Modèle 10 - SepalWidth/PetalWidth"
   ]
  },
  {
   "cell_type": "code",
   "execution_count": 54,
   "id": "f42225d7",
   "metadata": {},
   "outputs": [
    {
     "name": "stdout",
     "output_type": "stream",
     "text": [
      "\n",
      " Le pourcentage d'erreur est de :  10.0  %\n"
     ]
    }
   ],
   "source": [
    "#Modèle avec SepalWidth/PetalWidth pour les setosa\n",
    "def Modele10APosterioriSetosa(setosaSepalWidth, setosaPetalWidth):\n",
    "    probaSepalWidthSetosa = calcul_Gauss(setosaSepalWidth, moySetosa[1], ecartSetosa[1])\n",
    "    probaPetalWidthSetosa = calcul_Gauss(setosaPetalWidth, moySetosa[3], ecartSetosa[3])\n",
    "    aPosterioriSetosa = probaSepalWidthSetosa * probaPetalWidthSetosa * pSetosa\n",
    "    #On retourne la probabilité à postériori pour ensuite faire les pronostiques des résultats    \n",
    "    return aPosterioriSetosa\n",
    "\n",
    "#Modèle avec SepalWidth/PetalWidth pour les versicolor\n",
    "def Modele10APosterioriVersicolor(versicolorSepalWidth, versicolorPetalWidth):\n",
    "    probaSepalWidthVersicolor = calcul_Gauss(versicolorSepalWidth, moyVersicolor[1], ecartVersicolor[1])\n",
    "    probaPetalWidthVersicolor = calcul_Gauss(versicolorPetalWidth, moyVersicolor[3], ecartVersicolor[3])\n",
    "    aPosterioriVersicolor = probaSepalWidthVersicolor * probaPetalWidthVersicolor * pVersicolor\n",
    "    #On retourne la probabilité à postériori pour ensuite faire les pronostiques des résultats    \n",
    "    return aPosterioriVersicolor\n",
    "\n",
    "#Modèle avec SepalWidth/PetalWidth pour les virginica\n",
    "def Modele10APosterioriVirginica(virginicaSepalWidth, virginicaPetalWidth):\n",
    "    probaSepalWidthVirginica = calcul_Gauss(virginicaSepalWidth, moyVirginica[1], ecartVirginica[1])\n",
    "    probaPetalWidthVirginica = calcul_Gauss(virginicaPetalWidth, moyVirginica[3], ecartVirginica[3])\n",
    "    aPosterioriVirginica = probaSepalWidthVirginica * probaPetalWidthVirginica * pVirginica\n",
    "    #On retourne la probabilité à postériori pour ensuite faire les pronostiques des résultats    \n",
    "    return aPosterioriVirginica\n",
    "\n",
    "#Cette fonction permet d'insérer dans un tableau toutes les probabilités à priori suivant les types de fleurs\n",
    "def tableauAPosteriori():\n",
    "    tableau = []\n",
    "    \n",
    "    for i in range(30):\n",
    "        SepalWidth = data[i][1]\n",
    "        PetalWidth = data[i][3]\n",
    "        tableau.append([Modele10APosterioriSetosa(SepalWidth, PetalWidth), \n",
    "                       Modele10APosterioriVersicolor(SepalWidth, PetalWidth), \n",
    "                       Modele10APosterioriVirginica(SepalWidth, PetalWidth)])\n",
    "    return tableau\n",
    "\n",
    "tabModele10ProbaAPosteriori = tableauAPosteriori()\n",
    "print(\"\\n Le pourcentage d'erreur est de : \", pourcentage_erreur(tabModele10ProbaAPosteriori), \" %\")"
   ]
  },
  {
   "cell_type": "markdown",
   "id": "46cc540e",
   "metadata": {},
   "source": [
    "#### Modèle 11 - PetalLength/PetalWidth"
   ]
  },
  {
   "cell_type": "code",
   "execution_count": 55,
   "id": "04d71861",
   "metadata": {},
   "outputs": [
    {
     "name": "stdout",
     "output_type": "stream",
     "text": [
      "\n",
      " Le pourcentage d'erreur est de :  13.333333333333334  %\n"
     ]
    }
   ],
   "source": [
    "#Modèle avec PetalLength/PetalWidth pour les setosa\n",
    "def Modele11APosterioriSetosa(setosaPetalLength, setosaPetalWidth):\n",
    "    probaPetalLengthSetosa = calcul_Gauss(setosaPetalLength, moySetosa[2], ecartSetosa[2])\n",
    "    probaPetalWidthSetosa = calcul_Gauss(setosaPetalWidth, moySetosa[3], ecartSetosa[3])\n",
    "    aPosterioriSetosa = probaPetalLengthSetosa * probaPetalWidthSetosa * pSetosa\n",
    "    #On retourne la probabilité à postériori pour ensuite faire les pronostiques des résultats    \n",
    "    return aPosterioriSetosa\n",
    "\n",
    "#Modèle avec PetalLength/PetalWidth pour les versicolor\n",
    "def Modele11APosterioriVersicolor(versicolorPetalLength, versicolorPetalWidth):\n",
    "    probaPetalLengthVersicolor = calcul_Gauss(versicolorPetalLength, moyVersicolor[2], ecartVersicolor[2])\n",
    "    probaPetalWidthVersicolor = calcul_Gauss(versicolorPetalWidth, moyVersicolor[3], ecartVersicolor[3])\n",
    "    aPosterioriVersicolor = probaPetalLengthVersicolor * probaPetalWidthVersicolor * pVersicolor\n",
    "    #On retourne la probabilité à postériori pour ensuite faire les pronostiques des résultats    \n",
    "    return aPosterioriVersicolor\n",
    "\n",
    "#Modèle avec PetalLength/PetalWidth pour les virginica\n",
    "def Modele11APosterioriVirginica(virginicaPetalLength, virginicaPetalWidth):\n",
    "    probaPetalLengthVirginica = calcul_Gauss(virginicaPetalLength, moyVirginica[2], ecartVirginica[2])\n",
    "    probaPetalWidthVirginica = calcul_Gauss(virginicaPetalWidth, moyVirginica[3], ecartVirginica[3])\n",
    "    aPosterioriVirginica = probaPetalLengthVirginica * probaPetalWidthVirginica * pVirginica\n",
    "    #On retourne la probabilité à postériori pour ensuite faire les pronostiques des résultats    \n",
    "    return aPosterioriVirginica\n",
    "\n",
    "#Cette fonction permet d'insérer dans un tableau toutes les probabilités à priori suivant les types de fleurs\n",
    "def tableauAPosteriori():\n",
    "    tableau = []\n",
    "    \n",
    "    for i in range(30):\n",
    "        PetalLength = data[i][2]\n",
    "        PetalWidth = data[i][3]\n",
    "        tableau.append([Modele11APosterioriSetosa(PetalLength, PetalWidth), \n",
    "                       Modele11APosterioriVersicolor(PetalLength, PetalWidth), \n",
    "                       Modele11APosterioriVirginica(PetalLength, PetalWidth)])\n",
    "    return tableau\n",
    "\n",
    "tabModele11ProbaAPosteriori = tableauAPosteriori()\n",
    "print(\"\\n Le pourcentage d'erreur est de : \", pourcentage_erreur(tabModele11ProbaAPosteriori), \" %\")"
   ]
  },
  {
   "cell_type": "markdown",
   "id": "76f43c22",
   "metadata": {},
   "source": [
    "#### Modèle 12 - SepalLength"
   ]
  },
  {
   "cell_type": "code",
   "execution_count": 56,
   "id": "2841cc6d",
   "metadata": {},
   "outputs": [
    {
     "name": "stdout",
     "output_type": "stream",
     "text": [
      "\n",
      " Le pourcentage d'erreur est de :  26.666666666666668  %\n"
     ]
    }
   ],
   "source": [
    "#Modèle avec SepalLength pour les setosa\n",
    "def Modele12APosterioriSetosa(setosaSepalLength):\n",
    "    probaSepalLengthSetosa = calcul_Gauss(setosaSepalLength, moySetosa[0], ecartSetosa[0])\n",
    "    aPosterioriSetosa = probaSepalLengthSetosa * pSetosa\n",
    "    #On retourne la probabilité à postériori pour ensuite faire les pronostiques des résultats    \n",
    "    return aPosterioriSetosa\n",
    "\n",
    "#Modèle avec SepalLength pour les versicolor\n",
    "def Modele12APosterioriVersicolor(versicolorSepalLength):\n",
    "    probaSepalLengthVersicolor = calcul_Gauss(versicolorSepalLength, moyVersicolor[0], ecartVersicolor[0])\n",
    "    aPosterioriVersicolor = probaSepalLengthVersicolor * pVersicolor\n",
    "    #On retourne la probabilité à postériori pour ensuite faire les pronostiques des résultats    \n",
    "    return aPosterioriVersicolor\n",
    "\n",
    "#Modèle avec SepalLength pour les virginica\n",
    "def Modele12APosterioriVirginica(virginicaSepalLength):\n",
    "    probaSepalLengthVirginica = calcul_Gauss(virginicaSepalLength, moyVirginica[0], ecartVirginica[0])\n",
    "    aPosterioriVirginica = probaSepalLengthVirginica * pVirginica\n",
    "    #On retourne la probabilité à postériori pour ensuite faire les pronostiques des résultats    \n",
    "    return aPosterioriVirginica\n",
    "\n",
    "#Cette fonction permet d'insérer dans un tableau toutes les probabilités à priori suivant les types de fleurs\n",
    "def tableauAPosteriori():\n",
    "    tableau = []\n",
    "    \n",
    "    for i in range(30):\n",
    "        SepalLength = data[i][0]\n",
    "        tableau.append([Modele12APosterioriSetosa(SepalLength), \n",
    "                       Modele12APosterioriVersicolor(SepalLength), \n",
    "                       Modele12APosterioriVirginica(SepalLength)])\n",
    "    return tableau\n",
    "\n",
    "tabModele12ProbaAPosteriori = tableauAPosteriori()\n",
    "print(\"\\n Le pourcentage d'erreur est de : \", pourcentage_erreur(tabModele12ProbaAPosteriori), \" %\")"
   ]
  },
  {
   "cell_type": "markdown",
   "id": "e502e484",
   "metadata": {},
   "source": [
    "#### Modèle 13 - SepalWidth"
   ]
  },
  {
   "cell_type": "code",
   "execution_count": 57,
   "id": "6bfde41b",
   "metadata": {},
   "outputs": [
    {
     "name": "stdout",
     "output_type": "stream",
     "text": [
      "\n",
      " Le pourcentage d'erreur est de :  46.666666666666664  %\n"
     ]
    }
   ],
   "source": [
    "#Modèle avec SepalWidth pour les setosa\n",
    "def Modele13APosterioriSetosa(setosaSepalWidth):\n",
    "    probaSepalWidthSetosa = calcul_Gauss(setosaSepalWidth, moySetosa[1], ecartSetosa[1])\n",
    "    aPosterioriSetosa = probaSepalWidthSetosa * pSetosa\n",
    "    #On retourne la probabilité à postériori pour ensuite faire les pronostiques des résultats    \n",
    "    return aPosterioriSetosa\n",
    "\n",
    "#Modèle avec SepalWidth pour les versicolor\n",
    "def Modele13APosterioriVersicolor(versicolorSepalWidth):\n",
    "    probaSepalWidthVersicolor = calcul_Gauss(versicolorSepalWidth, moyVersicolor[1], ecartVersicolor[1])\n",
    "    aPosterioriVersicolor = probaSepalWidthVersicolor * pVersicolor\n",
    "    #On retourne la probabilité à postériori pour ensuite faire les pronostiques des résultats    \n",
    "    return aPosterioriVersicolor\n",
    "\n",
    "#Modèle avec SepalWidth pour les virginica\n",
    "def Modele13APosterioriVirginica(virginicaSepalWidth):\n",
    "    probaSepalWidthVirginica = calcul_Gauss(virginicaSepalWidth, moyVirginica[1], ecartVirginica[1])\n",
    "    aPosterioriVirginica = probaSepalWidthVirginica * pVirginica\n",
    "    #On retourne la probabilité à postériori pour ensuite faire les pronostiques des résultats    \n",
    "    return aPosterioriVirginica\n",
    "\n",
    "#Cette fonction permet d'insérer dans un tableau toutes les probabilités à priori suivant les types de fleurs\n",
    "def tableauAPosteriori():\n",
    "    tableau = []\n",
    "    \n",
    "    for i in range(30):\n",
    "        SepalWidth = data[i][1]\n",
    "        tableau.append([Modele13APosterioriSetosa(SepalWidth), \n",
    "                       Modele13APosterioriVersicolor(SepalWidth), \n",
    "                       Modele13APosterioriVirginica(SepalWidth)])\n",
    "    return tableau\n",
    "\n",
    "tabModele13ProbaAPosteriori = tableauAPosteriori()\n",
    "print(\"\\n Le pourcentage d'erreur est de : \", pourcentage_erreur(tabModele13ProbaAPosteriori), \" %\")"
   ]
  },
  {
   "cell_type": "markdown",
   "id": "bbc29b75",
   "metadata": {},
   "source": [
    "#### Modèle 14 - PetalLength"
   ]
  },
  {
   "cell_type": "code",
   "execution_count": 61,
   "id": "e70cd070",
   "metadata": {},
   "outputs": [
    {
     "name": "stdout",
     "output_type": "stream",
     "text": [
      "1.4593749999999999\n",
      "0.19651705171028602\n",
      "5.0\n",
      "5.3\n",
      "1.6\n",
      "1.5\n",
      "4.3\n",
      "4.5\n",
      "1.3\n",
      "1.5\n",
      "5.1\n",
      "5.1\n",
      "5.5\n",
      "1.7\n",
      "5.0\n",
      "5.6\n",
      "1.5\n",
      "1.4\n",
      "6.9\n",
      "1.3\n",
      "4.7\n",
      "4.2\n",
      "1.7\n",
      "5.6\n",
      "1.4\n",
      "1.3\n",
      "4.8\n",
      "6.4\n",
      "6.1\n",
      "1.4\n",
      "6.6\n",
      "5.6\n",
      "[[2.1130098936481218e-71, 0.059575028717131114, 0.14623948194051234], [7.479617469079211e-84, 0.013984646827205831, 0.2225908169260467], [0.5028823934332454, 2.9904881362671973e-08, 3.604077900585746e-14], [0.635887023102151, 8.25553188506789e-09, 7.810936241574793e-15], [2.7625850625700713e-46, 0.31350779341278046, 0.01421824675969757], [6.721696356728049e-53, 0.24944436749342816, 0.033561380323579686], [0.4675608002829985, 5.42855492805348e-10, 3.267742800160829e-16], [0.635887023102151, 8.25553188506789e-09, 7.810936241574793e-15], [1.9364983297820577e-75, 0.038602514871472815, 0.1748382826730452], [1.9364983297820577e-75, 0.038602514871472815, 0.1748382826730452], [1.025454523591772e-92, 0.004161645115613139, 0.2428550790853838], [0.30697046248867693, 1.0312964375253693e-07, 1.6000278985472826e-13], [2.1130098936481218e-71, 0.059575028717131114, 0.14623948194051234], [2.5748411917418054e-97, 0.002108814729762072, 0.23940357310654473], [0.635887023102151, 8.25553188506789e-09, 7.810936241574793e-15], [0.6206363141491186, 2.1696638016099136e-09, 1.6287496114458593e-15], [2.371749074254137e-167, 3.4892623711577803e-09, 0.005934244445273957], [0.4675608002829985, 5.42855492805348e-10, 3.267742800160829e-16], [5.805195876158176e-60, 0.16303344231015346, 0.06788953241600953], [3.79795292939071e-43, 0.32647676201465164, 0.008733988729297402], [0.30697046248867693, 1.0312964375253693e-07, 1.6000278985472826e-13], [2.5748411917418054e-97, 0.002108814729762072, 0.23940357310654473], [0.6206363141491186, 2.1696638016099136e-09, 1.6287496114458593e-15], [0.4675608002829985, 5.42855492805348e-10, 3.267742800160829e-16], [1.1569148780968279e-63, 0.12243196224509136, 0.09112714888617833], [3.6391135722198097e-138, 1.5610766100029238e-06, 0.05322568386796457], [5.285377406217614e-122, 3.369546686196869e-05, 0.12493451904105625], [0.6206363141491186, 2.1696638016099136e-09, 1.6287496114458593e-15], [1.674918939822924e-149, 1.574761374213713e-07, 0.024848031894377728], [2.5748411917418054e-97, 0.002108814729762072, 0.23940357310654473]]\n",
      "\n",
      " Le pourcentage d'erreur est de :  6.666666666666667  %\n"
     ]
    }
   ],
   "source": [
    "#Modèle avec PetalLength pour les setosa\n",
    "def Modele14APosterioriSetosa(setosaPetalLength):\n",
    "    probaPetalLengthSetosa = calcul_Gauss(setosaPetalLength, moySetosa[2], ecartSetosa[2])\n",
    "    print(setosaPetalLength)\n",
    "\n",
    "    aPosterioriSetosa =  probaPetalLengthSetosa * pSetosa\n",
    "    #On retourne la probabilité à postériori pour ensuite faire les pronostiques des résultats    \n",
    "    return aPosterioriSetosa\n",
    "\n",
    "#Modèle avec PetalLength pour les versicolor\n",
    "def Modele14APosterioriVersicolor(versicolorPetalLength):\n",
    "    probaPetalLengthVersicolor = calcul_Gauss(versicolorPetalLength, moyVersicolor[2], ecartVersicolor[2])\n",
    "    aPosterioriVersicolor =  probaPetalLengthVersicolor * pVersicolor\n",
    "    #On retourne la probabilité à postériori pour ensuite faire les pronostiques des résultats    \n",
    "    return aPosterioriVersicolor\n",
    "\n",
    "#Modèle avec PetalLength pour les virginica\n",
    "def Modele14APosterioriVirginica(virginicaPetalLength):\n",
    "    probaPetalLengthVirginica = calcul_Gauss(virginicaPetalLength, moyVirginica[2], ecartVirginica[2])\n",
    "    aPosterioriVirginica = probaPetalLengthVirginica * pVirginica\n",
    "    #On retourne la probabilité à postériori pour ensuite faire les pronostiques des résultats    \n",
    "    return aPosterioriVirginica\n",
    "\n",
    "#Cette fonction permet d'insérer dans un tableau toutes les probabilités à priori suivant les types de fleurs\n",
    "def tableauAPosteriori():\n",
    "    tableau = []\n",
    "    \n",
    "    for i in range(30):\n",
    "        PetalLength = data[i][2]\n",
    "        tableau.append([Modele14APosterioriSetosa(PetalLength), \n",
    "                       Modele14APosterioriVersicolor(PetalLength), \n",
    "                       Modele14APosterioriVirginica(PetalLength)])\n",
    "    print(tableau)\n",
    "    return tableau\n",
    "print(moySetosa[2])\n",
    "print(ecartSetosa[2])\n",
    "\n",
    "tabModele14ProbaAPosteriori = tableauAPosteriori()\n",
    "print(\"\\n Le pourcentage d'erreur est de : \", pourcentage_erreur(tabModele14ProbaAPosteriori), \" %\")"
   ]
  },
  {
   "cell_type": "markdown",
   "id": "8f1a1837",
   "metadata": {},
   "source": [
    "#### Modèle 15 - PetalWidth"
   ]
  },
  {
   "cell_type": "code",
   "execution_count": 37,
   "id": "90ebcbcc",
   "metadata": {},
   "outputs": [
    {
     "name": "stdout",
     "output_type": "stream",
     "text": [
      "\n",
      " Le pourcentage d'erreur est de :  10.0  %\n"
     ]
    }
   ],
   "source": [
    "#Modèle avec PetalWidth pour les setosa\n",
    "def Modele15APosterioriSetosa(setosaPetalWidth):\n",
    "    probaPetalWidthSetosa = calcul_Gauss(setosaPetalWidth, moySetosa[3], ecartSetosa[3])\n",
    "    aPosterioriSetosa = probaPetalWidthSetosa * pSetosa\n",
    "    #On retourne la probabilité à postériori pour ensuite faire les pronostiques des résultats    \n",
    "    return aPosterioriSetosa\n",
    "\n",
    "#Modèle avec PetalWidth pour les versicolor\n",
    "def Modele15APosterioriVersicolor(versicolorPetalWidth):\n",
    "    probaPetalWidthVersicolor = calcul_Gauss(versicolorPetalWidth, moyVersicolor[3], ecartVersicolor[3])\n",
    "    aPosterioriVersicolor = probaPetalWidthVersicolor * pVersicolor\n",
    "    #On retourne la probabilité à postériori pour ensuite faire les pronostiques des résultats    \n",
    "    return aPosterioriVersicolor\n",
    "\n",
    "#Modèle avec PetalWidth pour les virginica\n",
    "def Modele15APosterioriVirginica(virginicaPetalWidth):\n",
    "    probaPetalWidthVirginica = calcul_Gauss(virginicaPetalWidth, moyVirginica[3], ecartVirginica[3])\n",
    "    aPosterioriVirginica = probaPetalWidthVirginica * pVirginica\n",
    "    #On retourne la probabilité à postériori pour ensuite faire les pronostiques des résultats    \n",
    "    return aPosterioriVirginica\n",
    "\n",
    "#Cette fonction permet d'insérer dans un tableau toutes les probabilités à priori suivant les types de fleurs\n",
    "def tableauAPosteriori():\n",
    "    tableau = []\n",
    "    \n",
    "    for i in range(30):\n",
    "        PetalWidth = data[i][3]\n",
    "        tableau.append([Modele15APosterioriSetosa(PetalWidth), \n",
    "                       Modele15APosterioriVersicolor(PetalWidth), \n",
    "                       Modele15APosterioriVirginica(PetalWidth)])\n",
    "    return tableau\n",
    "\n",
    "tabModele15ProbaAPosteriori = tableauAPosteriori()\n",
    "print(\"\\n Le pourcentage d'erreur est de : \", pourcentage_erreur(tabModele15ProbaAPosteriori), \" %\")"
   ]
  },
  {
   "cell_type": "raw",
   "id": "57741b3e",
   "metadata": {},
   "source": [
    "Le meilleur modèle est celui avec PetalLength"
   ]
  },
  {
   "cell_type": "markdown",
   "id": "93d9a81f",
   "metadata": {},
   "source": [
    "## 4. Phase d'évaluation"
   ]
  },
  {
   "cell_type": "code",
   "execution_count": 38,
   "id": "784df1dd",
   "metadata": {},
   "outputs": [
    {
     "name": "stdout",
     "output_type": "stream",
     "text": [
      "\n",
      " Le pourcentage d'erreur est de :  15.0  %\n"
     ]
    }
   ],
   "source": [
    "#Pour la phase d'évaluation on s'intéresse aux fleurs comprise entre 130 et 150\n",
    "donnee = shuffledIrisTarget[130:150]\n",
    "data = shuffledIrisData[130:150]\n",
    "\n",
    "#Cette fonction permet d'insérer dans un tableau toutes les probabilités à priori suivant les types de fleurs\n",
    "def tableauAPosteriori():\n",
    "    tableau = []\n",
    "    \n",
    "    for i in range(20):\n",
    "        PetalLength = data[i][2]\n",
    "        tableau.append([Modele14APosterioriSetosa(PetalLength), \n",
    "                       Modele14APosterioriVersicolor(PetalLength), \n",
    "                       Modele14APosterioriVirginica(PetalLength)])\n",
    "    return tableau\n",
    "\n",
    "#Cette fonction permet de calculer le pourcentage d'erreur du modèle\n",
    "def pourcentage_erreur(Modele):\n",
    "    compteur_erreur = 0\n",
    "    \n",
    "    for i in range(20):\n",
    "        if donnee[i] != np.argmax(Modele[i]):\n",
    "            compteur_erreur += 1\n",
    "    return (compteur_erreur/20)*100\n",
    "\n",
    "tabModeleProbaAPosteriori = tableauAPosteriori()\n",
    "print(\"\\n Le pourcentage d'erreur est de : \", pourcentage_erreur(tabModeleProbaAPosteriori), \" %\")"
   ]
  },
  {
   "cell_type": "raw",
   "id": "09ac63a9",
   "metadata": {},
   "source": [
    "Nous avons un pourcentage d'erreur de 15% dans la phase d'évaluation avec le meilleur modèle qui était celui avec les PetalLength"
   ]
  },
  {
   "cell_type": "code",
   "execution_count": null,
   "id": "28d52873",
   "metadata": {},
   "outputs": [],
   "source": []
  },
  {
   "cell_type": "code",
   "execution_count": null,
   "id": "46ac7071",
   "metadata": {},
   "outputs": [],
   "source": []
  },
  {
   "cell_type": "code",
   "execution_count": null,
   "id": "c2c5d166",
   "metadata": {},
   "outputs": [],
   "source": []
  },
  {
   "cell_type": "code",
   "execution_count": null,
   "id": "09069aee",
   "metadata": {},
   "outputs": [],
   "source": []
  },
  {
   "cell_type": "code",
   "execution_count": null,
   "id": "22716d12",
   "metadata": {},
   "outputs": [],
   "source": []
  }
 ],
 "metadata": {
  "kernelspec": {
   "display_name": "Python 3 (ipykernel)",
   "language": "python",
   "name": "python3"
  },
  "language_info": {
   "codemirror_mode": {
    "name": "ipython",
    "version": 3
   },
   "file_extension": ".py",
   "mimetype": "text/x-python",
   "name": "python",
   "nbconvert_exporter": "python",
   "pygments_lexer": "ipython3",
   "version": "3.8.10"
  }
 },
 "nbformat": 4,
 "nbformat_minor": 5
}
