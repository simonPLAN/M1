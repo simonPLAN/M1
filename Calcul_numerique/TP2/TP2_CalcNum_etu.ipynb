{
 "cells": [
  {
   "cell_type": "markdown",
   "metadata": {},
   "source": [
    "# Calcul Numérique TP2\n",
    "\n",
    "## Partie 1: Application directe du cours\n",
    "\n",
    "Dans cette première partie, vous n'avez pas besoin de l'ordinateur. Un papier et un crayon seront suffisants.\n",
    "\n",
    "### Exercice 1: Dérivées partielles\n",
    "\n",
    "Après avoir écrit leur domaine de définition, déterminer les dérivées partielles premières et secondes, quand elles existent, et donner la matrice Hessienne des fonctions suivantes:\n",
    "\n",
    "- [x] $f(x,y) = xy^2 + 3 x^2$\n",
    "- [x] $f(x,y) = \\dfrac{x}{y} + y$\n",
    "- [x] $f(x,y) = e^{xy}$\n",
    "- [ ] $f(x,y) = \\sqrt{xy}$\n",
    "- [ ] $f(x,y) = x^3 e^y + \\ln(xy) + y^2 \\ln(x)$\n",
    "- [ ] $f(x,y,z) = x^2 y z$\n",
    "- [ ] $f(x,y, z) = x^3 + xy + y^2 + 3z^2 x$\n"
   ]
  },
  {
   "cell_type": "markdown",
   "metadata": {},
   "source": [
    "### Exercice 2: Mineurs principaux\n",
    "\n",
    "Pour les matrices suivantes, donner les mineurs principaux, ainsi que les mineurs principaux diagonaux. Puis dire si ces matrices sont définies ou semie-définies, positives ou négatives.\n",
    "\n",
    "- [ ] $A=\\begin{bmatrix}2 & -1\\\\ 0 & 2 \\end{bmatrix}$\n",
    "- [ ] $B=\\begin{bmatrix}1 & 3\\\\ 2 & 4 \\end{bmatrix}$\n",
    "- [ ] $C=\\begin{bmatrix}1 & 3 &0 \\\\ 2 & 6 & 4\\\\ -1 &0 &2 \\end{bmatrix}$\n",
    "- [ ] $D=\\begin{bmatrix}1 & 2 &2 \\\\ 1 & 2 & 3\\\\ 1 &2 &1 \\end{bmatrix}$"
   ]
  },
  {
   "cell_type": "markdown",
   "metadata": {},
   "source": [
    "## Partie 2: Optimisation de fonction\n",
    "\n",
    "On considère dans cette partie plusieurs fonctions:\n",
    "\n",
    "1) $f(x,y) = xy$\n",
    "\n",
    "2) $g(x,y) = 3 xy -x^3 -y^3$\n",
    "\n",
    "3) $h(x, y) \\leftarrow x^2 + \\sin(y)$"
   ]
  },
  {
   "cell_type": "markdown",
   "metadata": {},
   "source": [
    "### Exercice 1: recherche des optima\n",
    "\n",
    "On cherche les optima de cette fonction si ils existent, et on souhaite les caractériser: si ce sont des maximum, minimum locaux, globaux.\n",
    "- [ ] Déterminer les optima possibles et les caractériser (à faire sur papier). On détaillera les CPO et CSO."
   ]
  },
  {
   "cell_type": "markdown",
   "metadata": {},
   "source": [
    "### Exercice 2: Visualisation\n",
    "\n",
    "- [ ] Tracer la surface de ces fonctions en vous aidant du code Python vu en cours et rappelé ci-dessous. \n",
    "- [ ] Confirmer les valeurs des optima obtenues précédemment en les visualisant sur la surface."
   ]
  },
  {
   "cell_type": "code",
   "execution_count": 1,
   "metadata": {},
   "outputs": [
    {
     "ename": "SyntaxError",
     "evalue": "invalid syntax (3774756089.py, line 8)",
     "output_type": "error",
     "traceback": [
      "\u001b[0;36m  File \u001b[0;32m\"/tmp/ipykernel_4690/3774756089.py\"\u001b[0;36m, line \u001b[0;32m8\u001b[0m\n\u001b[0;31m    debut = ??\u001b[0m\n\u001b[0m            ^\u001b[0m\n\u001b[0;31mSyntaxError\u001b[0m\u001b[0;31m:\u001b[0m invalid syntax\n"
     ]
    }
   ],
   "source": [
    "import numpy as np\n",
    "import matplotlib.pyplot as plt\n",
    "from mpl_toolkits.mplot3d import Axes3D\n",
    "\n",
    "def f(x,y):\n",
    "    return ...\n",
    "\n",
    "debut = ??\n",
    "fin   = ??\n",
    "N     = ??\n",
    "x = np.linspace(debut, fin, N)\n",
    "y = np.linspace(debut, fin, N)\n",
    "x, y = np.meshgrid(x,y)\n",
    "z = f(x,y)\n",
    "fig = plt.figure()\n",
    "#pour tracer la surface:\n",
    "axes = fig.gca(projection = ’3d’)\n",
    "axes.plot_surface(x, y, z)\n",
    "axes.set_title('z = f(x,y)')\n",
    "#plt.show()"
   ]
  },
  {
   "cell_type": "markdown",
   "metadata": {},
   "source": [
    "3) Tracer des vues en coupes pertinentes afin de voir les optima en 2D.\n",
    "4) Tracer des isoclines pertinentes de la fonction."
   ]
  }
 ],
 "metadata": {
  "kernelspec": {
   "display_name": "Python 3 (ipykernel)",
   "language": "python",
   "name": "python3"
  },
  "language_info": {
   "codemirror_mode": {
    "name": "ipython",
    "version": 3
   },
   "file_extension": ".py",
   "mimetype": "text/x-python",
   "name": "python",
   "nbconvert_exporter": "python",
   "pygments_lexer": "ipython3",
   "version": "3.8.10"
  }
 },
 "nbformat": 4,
 "nbformat_minor": 2
}
